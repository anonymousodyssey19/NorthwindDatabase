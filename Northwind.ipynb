{
 "cells": [
  {
   "cell_type": "markdown",
   "metadata": {},
   "source": [
    "# Project Overview:\n",
    "\n",
    "I was brought onto this project as a data scienctist to provide insights into a supply chain. Given that the project was very vague, I went on to perform statistical analysis on the supply chain's customers, suppliers, and overall efficiency."
   ]
  },
  {
   "cell_type": "markdown",
   "metadata": {},
   "source": [
    "# Findings:"
   ]
  },
  {
   "cell_type": "markdown",
   "metadata": {},
   "source": [
    "### Hypothesis 1 of 4:\n",
    "\n",
    "H0: Discounts do not have a statistically significant effect on the quantity of product ordered.\n",
    "\n",
    "H1: Discounts DO have a statistically significant effect on the quantity of product ordered. \n",
    "\n",
    "#### Result: \n",
    "Reject the H0\n",
    "\n",
    "#### Statistics: \n",
    "\n",
    "KS2 Statistic / P-Value (0.12 / 0.0476), Monte Carlo Method Means (Discounted: 27.1 / Non-Discounted: 21.71),  Cohen's D (8.91), Anova Method (P-Value: 5 Categories Under .001)"
   ]
  },
  {
   "cell_type": "markdown",
   "metadata": {},
   "source": [
    "### Hypothesis 2 of 4:\n",
    "\n",
    "H0: Discounts do not have a statistically significant effect on the avg revenue.\n",
    "\n",
    "H1: Discounts DO have a statistically significant effect on the avg revenue.\n",
    "\n",
    "#### Result: \n",
    "Accept the H0\n",
    "\n",
    "#### Statistics: \n",
    "KS2 Statistic / P-Value (.033/.0063), Monte Carlo Method Means (Discounted: 52.59 / Non-Discounted: 52.32),  Cohen's D (.14)"
   ]
  },
  {
   "cell_type": "markdown",
   "metadata": {},
   "source": [
    "### Hypothesis 3 of 4:\n",
    "\n",
    "\n",
    "H0: Customers do not have a statistically signifigant bias towards purchasing discounted products.\n",
    "\n",
    "H1: Customers DO have a statistically signifigant bias towards purchasing discounted products.\n",
    "\n",
    "#### Result: \n",
    "Reject the H0\n",
    "\n",
    "#### Statistics: \n",
    "KS Statistic / P-Value (0.52 / 0.0), Cohen's D (1.55)"
   ]
  },
  {
   "cell_type": "markdown",
   "metadata": {},
   "source": [
    "### Hypothesis 4 of 4:\n",
    "    \n",
    "H0: The perfect order fulfillment is NOT at or above the acceptable standard of 90%.\n",
    "\n",
    "H1: The perfect order fulfillment is at or above the acceptable standard of 90%.\n",
    "\n",
    "#### Result: \n",
    "Reject the H0\n",
    "\n",
    "#### Statistics: \n",
    "POF Index: 95%"
   ]
  },
  {
   "cell_type": "markdown",
   "metadata": {},
   "source": [
    "---------------------------------------------------------------------------------------------------------------------"
   ]
  },
  {
   "cell_type": "markdown",
   "metadata": {},
   "source": [
    "## Each hypothesis has the full process and details provided below:"
   ]
  },
  {
   "cell_type": "markdown",
   "metadata": {},
   "source": [
    "---------------------------------------------------------------------------------------------------------------------"
   ]
  },
  {
   "cell_type": "markdown",
   "metadata": {},
   "source": [
    "# Here I am testing the hypothesis given: \n",
    "\n",
    "#### Ho: Discounts do not have a statistically significant effect on the quantity of product ordered.\n",
    "#### H1: Discounts DO have a statistically significant effect on the quantity of product ordered. "
   ]
  },
  {
   "cell_type": "markdown",
   "metadata": {},
   "source": [
    "# Data Exploration:"
   ]
  },
  {
   "cell_type": "markdown",
   "metadata": {},
   "source": [
    "Here I am loading the appropriate libraries and creating a connection to so that I may access the SQL database."
   ]
  },
  {
   "cell_type": "code",
   "execution_count": 2,
   "metadata": {},
   "outputs": [],
   "source": [
    "import pandas as pd\n",
    "import matplotlib.pyplot as plt\n",
    "import numpy as np\n",
    "import sqlite3\n",
    "import scipy.stats as stats\n",
    "import statsmodels.api as sm\n",
    "from statsmodels.formula.api import ols\n",
    "\n",
    "conn = sqlite3.connect('Northwind_small.sqlite')\n",
    "c = conn.cursor()"
   ]
  },
  {
   "cell_type": "markdown",
   "metadata": {},
   "source": [
    "I am getting the data needed to test the hypothesis and previewing it to make sure that it loaded correctly."
   ]
  },
  {
   "cell_type": "code",
   "execution_count": 3,
   "metadata": {},
   "outputs": [
    {
     "data": {
      "text/html": [
       "<div>\n",
       "<style scoped>\n",
       "    .dataframe tbody tr th:only-of-type {\n",
       "        vertical-align: middle;\n",
       "    }\n",
       "\n",
       "    .dataframe tbody tr th {\n",
       "        vertical-align: top;\n",
       "    }\n",
       "\n",
       "    .dataframe thead th {\n",
       "        text-align: right;\n",
       "    }\n",
       "</style>\n",
       "<table border=\"1\" class=\"dataframe\">\n",
       "  <thead>\n",
       "    <tr style=\"text-align: right;\">\n",
       "      <th></th>\n",
       "      <th>Id</th>\n",
       "      <th>OrderId</th>\n",
       "      <th>ProductId</th>\n",
       "      <th>UnitPrice</th>\n",
       "      <th>Quantity</th>\n",
       "      <th>Discount</th>\n",
       "    </tr>\n",
       "  </thead>\n",
       "  <tbody>\n",
       "    <tr>\n",
       "      <th>0</th>\n",
       "      <td>10248/11</td>\n",
       "      <td>10248</td>\n",
       "      <td>11</td>\n",
       "      <td>14.0</td>\n",
       "      <td>12</td>\n",
       "      <td>0.0</td>\n",
       "    </tr>\n",
       "    <tr>\n",
       "      <th>1</th>\n",
       "      <td>10248/42</td>\n",
       "      <td>10248</td>\n",
       "      <td>42</td>\n",
       "      <td>9.8</td>\n",
       "      <td>10</td>\n",
       "      <td>0.0</td>\n",
       "    </tr>\n",
       "    <tr>\n",
       "      <th>2</th>\n",
       "      <td>10248/72</td>\n",
       "      <td>10248</td>\n",
       "      <td>72</td>\n",
       "      <td>34.8</td>\n",
       "      <td>5</td>\n",
       "      <td>0.0</td>\n",
       "    </tr>\n",
       "    <tr>\n",
       "      <th>3</th>\n",
       "      <td>10249/14</td>\n",
       "      <td>10249</td>\n",
       "      <td>14</td>\n",
       "      <td>18.6</td>\n",
       "      <td>9</td>\n",
       "      <td>0.0</td>\n",
       "    </tr>\n",
       "    <tr>\n",
       "      <th>4</th>\n",
       "      <td>10249/51</td>\n",
       "      <td>10249</td>\n",
       "      <td>51</td>\n",
       "      <td>42.4</td>\n",
       "      <td>40</td>\n",
       "      <td>0.0</td>\n",
       "    </tr>\n",
       "  </tbody>\n",
       "</table>\n",
       "</div>"
      ],
      "text/plain": [
       "         Id  OrderId  ProductId  UnitPrice  Quantity  Discount\n",
       "0  10248/11    10248         11       14.0        12       0.0\n",
       "1  10248/42    10248         42        9.8        10       0.0\n",
       "2  10248/72    10248         72       34.8         5       0.0\n",
       "3  10249/14    10249         14       18.6         9       0.0\n",
       "4  10249/51    10249         51       42.4        40       0.0"
      ]
     },
     "execution_count": 3,
     "metadata": {},
     "output_type": "execute_result"
    }
   ],
   "source": [
    "c.execute('''select * from OrderDetail''')\n",
    "df = pd.DataFrame(c.fetchall())\n",
    "df.columns = [x[0] for x in c.description]\n",
    "df.head()"
   ]
  },
  {
   "cell_type": "markdown",
   "metadata": {},
   "source": [
    "Here I am seperating data into dataframes based on whether they had a discount on the order or not."
   ]
  },
  {
   "cell_type": "code",
   "execution_count": 4,
   "metadata": {},
   "outputs": [],
   "source": [
    "nddf = df.loc[df.Discount == 0]\n",
    "ddf = df.loc[df.Discount > 0]"
   ]
  },
  {
   "cell_type": "markdown",
   "metadata": {},
   "source": [
    "Here I am taking a look into each dataframes. It appears that there is higher amount ordered when there is a discount and the unit price doesn't seem to drop as I had anticipated. The dataframe with the discount actually has a higher mean in regards to the unit price. I am going to have to see if the discount is reflected in the unit price with the SQL documentation. "
   ]
  },
  {
   "cell_type": "code",
   "execution_count": 5,
   "metadata": {},
   "outputs": [
    {
     "data": {
      "text/plain": [
       "(            OrderId   ProductId   UnitPrice    Quantity    Discount\n",
       " count    838.000000  838.000000  838.000000  838.000000  838.000000\n",
       " mean   10654.007160   39.844869   26.292363   27.109785    0.144439\n",
       " std      235.887125   22.046812   30.017214   20.771439    0.071808\n",
       " min    10250.000000    1.000000    2.000000    1.000000    0.010000\n",
       " 25%    10452.250000   21.000000   12.500000   12.000000    0.100000\n",
       " 50%    10645.000000   40.000000   18.000000   20.000000    0.150000\n",
       " 75%    10847.000000   59.000000   31.230000   36.000000    0.200000\n",
       " max    11077.000000   77.000000  263.500000  130.000000    0.250000,\n",
       "             OrderId    ProductId    UnitPrice     Quantity  Discount\n",
       " count   1317.000000  1317.000000  1317.000000  1317.000000    1317.0\n",
       " mean   10662.791951    41.396355    26.171534    21.715262       0.0\n",
       " std      244.835366    22.217410    29.717354    17.507493       0.0\n",
       " min    10248.000000     1.000000     2.000000     1.000000       0.0\n",
       " 25%    10448.000000    23.000000    12.000000    10.000000       0.0\n",
       " 50%    10671.000000    41.000000    18.400000    18.000000       0.0\n",
       " 75%    10879.000000    60.000000    32.800000    30.000000       0.0\n",
       " max    11077.000000    77.000000   263.500000   130.000000       0.0)"
      ]
     },
     "execution_count": 5,
     "metadata": {},
     "output_type": "execute_result"
    }
   ],
   "source": [
    "ddf.describe(), nddf.describe()"
   ]
  },
  {
   "cell_type": "markdown",
   "metadata": {},
   "source": [
    "Here I am getting a list for both the discounted and non discounted quantities ordered."
   ]
  },
  {
   "cell_type": "code",
   "execution_count": 6,
   "metadata": {},
   "outputs": [],
   "source": [
    "ndx = [x for x in nddf.Quantity]\n",
    "dx = [x for x in ddf.Quantity]"
   ]
  },
  {
   "cell_type": "markdown",
   "metadata": {},
   "source": [
    "The results show very little difference between the two distributions and a low p-value indicates we can compare the two to test for the hypothesis with confidence."
   ]
  },
  {
   "cell_type": "code",
   "execution_count": 7,
   "metadata": {},
   "outputs": [
    {
     "data": {
      "text/plain": [
       "Ks_2sampResult(statistic=0.12135050550629461, pvalue=4.763897379538179e-07)"
      ]
     },
     "execution_count": 7,
     "metadata": {},
     "output_type": "execute_result"
    }
   ],
   "source": [
    "stats.ks_2samp(ndx, dx)"
   ]
  },
  {
   "cell_type": "markdown",
   "metadata": {},
   "source": [
    "Here I am plotting the two CDFs and it shows how similar the distributions are which backs up the low D statistic."
   ]
  },
  {
   "cell_type": "code",
   "execution_count": 8,
   "metadata": {},
   "outputs": [
    {
     "data": {
      "image/png": "[encoded data removed]",
      "text/plain": [
       "<Figure size 864x504 with 1 Axes>"
      ]
     },
     "metadata": {
      "needs_background": "light"
     },
     "output_type": "display_data"
    }
   ],
   "source": [
    "def ks_plot_2sample(data_1, data_2):\n",
    "    length = len(data_1)\n",
    "    plt.figure(figsize=(12, 7))\n",
    "    plt.plot(np.sort(data_1), np.linspace(0, 1, len(data_1), endpoint=False))\n",
    "    plt.plot(np.sort(data_2), np.linspace(0, 1, len(data_2), endpoint=False))\n",
    "    plt.legend(['No Discount', 'Discount'])\n",
    "    plt.title('Comparing 2 CDFs for KS-Test')\n",
    "    \n",
    "ks_plot_2sample(ndx, dx)"
   ]
  },
  {
   "cell_type": "markdown",
   "metadata": {},
   "source": [
    "# Statistical Analysis:"
   ]
  },
  {
   "cell_type": "markdown",
   "metadata": {},
   "source": [
    "Here I am using a Monte Carlo method to test the sample data against the population as a whole. As you can see the model gives a very accurate  representation of the actual discounted data and when compared to the population as a whole which has a deviation of 2.72."
   ]
  },
  {
   "cell_type": "code",
   "execution_count": 9,
   "metadata": {},
   "outputs": [],
   "source": [
    "def ND_stats(ndx, dx, size_i):\n",
    "    mus1 = []\n",
    "    devs1 = []\n",
    "    merger = ndx + dx\n",
    "\n",
    "    for i in range(10000):\n",
    "        a = np.random.choice(ndx, size = size_i, replace=False)\n",
    "        b = merger.copy()\n",
    "\n",
    "        for item in a:\n",
    "            b.remove(item)\n",
    "\n",
    "        mu_monte = np.mean(a)\n",
    "        dev = abs(np.mean(b) - mu_monte)\n",
    "\n",
    "        mus1.append(mu_monte)\n",
    "        devs1.append(dev)\n",
    "    \n",
    "    return mus1, devs1"
   ]
  },
  {
   "cell_type": "code",
   "execution_count": 10,
   "metadata": {},
   "outputs": [],
   "source": [
    "mus1, devs1 = ND_stats(ndx, dx, 500)"
   ]
  },
  {
   "cell_type": "code",
   "execution_count": 11,
   "metadata": {},
   "outputs": [
    {
     "name": "stdout",
     "output_type": "stream",
     "text": [
      "Average quantity sold (Non-Discounted): 21.71526195899772\n",
      "Average devation from total population: 5.3945232438662405\n",
      "Average devation from sample population: 3.552713678800501e-15\n"
     ]
    }
   ],
   "source": [
    "print(\"Average quantity sold (Non-Discounted): {}\".format(np.mean(mus1)))\n",
    "print('Average devation from total population: {}'.format(np.mean(devs1)))\n",
    "print('Average devation from sample population: {}'.format(abs(np.mean(mus1) - np.mean(ndx))))"
   ]
  },
  {
   "cell_type": "markdown",
   "metadata": {},
   "source": [
    "Here I am using a Monte Carlo method to test the sample data against the population as a whole. As you can see the model gives a very accurate  representation of the actual discounted data and when compared to the population as a whole which has a deviation of 4.29."
   ]
  },
  {
   "cell_type": "code",
   "execution_count": 12,
   "metadata": {},
   "outputs": [],
   "source": [
    "def Disc_stats(ndx, dx):\n",
    "    mus = []\n",
    "    devs = []\n",
    "    merger = ndx + dx\n",
    "\n",
    "    for i in range(10000):\n",
    "        a = np.random.choice(dx, size = len(dx), replace=False)\n",
    "        b = merger.copy()\n",
    "\n",
    "        for item in a:\n",
    "            b.remove(item)\n",
    "\n",
    "        mu_monte = np.mean(a)\n",
    "        dev = abs(np.mean(b) - mu_monte)\n",
    "\n",
    "        mus.append(mu_monte)\n",
    "        devs.append(dev)\n",
    "    \n",
    "    return mus, devs"
   ]
  },
  {
   "cell_type": "code",
   "execution_count": 13,
   "metadata": {},
   "outputs": [],
   "source": [
    "mus, devs = Disc_stats(ndx, dx, 500)"
   ]
  },
  {
   "cell_type": "code",
   "execution_count": 14,
   "metadata": {},
   "outputs": [
    {
     "name": "stdout",
     "output_type": "stream",
     "text": [
      "Average quantity sold (Discounted): 27.109785202863968\n",
      "Average devation from total population: 5.3945232438662405\n",
      "Average devation from sample population: 7.105427357601002e-15\n"
     ]
    }
   ],
   "source": [
    "print(\"Average quantity sold (Discounted): {}\".format(np.mean(mus)))\n",
    "print('Average devation from total population: {}'.format(np.mean(devs)))\n",
    "print('Average devation from sample population: {}'.format(abs(np.mean(mus) - np.mean(dx))))"
   ]
  },
  {
   "cell_type": "markdown",
   "metadata": {},
   "source": [
    "Here I am calculating the effect size of the difference between the results with Cohen's D. As you can see with the standardized effect size, this shows that \"discounts\" have a large effect on the \"quantity\" sold."
   ]
  },
  {
   "cell_type": "code",
   "execution_count": 23,
   "metadata": {},
   "outputs": [],
   "source": [
    "def Cohen_d(group1, group2):\n",
    "\n",
    "    diff = np.mean(group1) - np.mean(group2)\n",
    "\n",
    "    n1, n2 = len(group1), len(group2)\n",
    "    var1 = np.var(group1)\n",
    "    var2 = np.var(group2)\n",
    "\n",
    "    pooled_var = (n1 * var1 + n2 * var2) / (n1 + n2)\n",
    "    \n",
    "\n",
    "    d = diff / np.sqrt(pooled_var)\n",
    "    \n",
    "    return d"
   ]
  },
  {
   "cell_type": "code",
   "execution_count": 15,
   "metadata": {},
   "outputs": [
    {
     "data": {
      "text/plain": [
       "8.917313842911296"
      ]
     },
     "execution_count": 15,
     "metadata": {},
     "output_type": "execute_result"
    }
   ],
   "source": [
    "Cohen_d(mus, mus1)"
   ]
  },
  {
   "cell_type": "code",
   "execution_count": 16,
   "metadata": {},
   "outputs": [
    {
     "data": {
      "text/html": [
       "<div>\n",
       "<style scoped>\n",
       "    .dataframe tbody tr th:only-of-type {\n",
       "        vertical-align: middle;\n",
       "    }\n",
       "\n",
       "    .dataframe tbody tr th {\n",
       "        vertical-align: top;\n",
       "    }\n",
       "\n",
       "    .dataframe thead th {\n",
       "        text-align: right;\n",
       "    }\n",
       "</style>\n",
       "<table border=\"1\" class=\"dataframe\">\n",
       "  <thead>\n",
       "    <tr style=\"text-align: right;\">\n",
       "      <th></th>\n",
       "      <th>Quantity</th>\n",
       "      <th>Zero</th>\n",
       "      <th>One</th>\n",
       "      <th>Two</th>\n",
       "      <th>Three</th>\n",
       "      <th>Four</th>\n",
       "      <th>Five</th>\n",
       "      <th>Six</th>\n",
       "      <th>Ten</th>\n",
       "      <th>Fifteen</th>\n",
       "      <th>Twenty</th>\n",
       "      <th>TwentyFive</th>\n",
       "    </tr>\n",
       "  </thead>\n",
       "  <tbody>\n",
       "    <tr>\n",
       "      <th>0</th>\n",
       "      <td>12</td>\n",
       "      <td>1</td>\n",
       "      <td>0</td>\n",
       "      <td>0</td>\n",
       "      <td>0</td>\n",
       "      <td>0</td>\n",
       "      <td>0</td>\n",
       "      <td>0</td>\n",
       "      <td>0</td>\n",
       "      <td>0</td>\n",
       "      <td>0</td>\n",
       "      <td>0</td>\n",
       "    </tr>\n",
       "    <tr>\n",
       "      <th>1</th>\n",
       "      <td>10</td>\n",
       "      <td>1</td>\n",
       "      <td>0</td>\n",
       "      <td>0</td>\n",
       "      <td>0</td>\n",
       "      <td>0</td>\n",
       "      <td>0</td>\n",
       "      <td>0</td>\n",
       "      <td>0</td>\n",
       "      <td>0</td>\n",
       "      <td>0</td>\n",
       "      <td>0</td>\n",
       "    </tr>\n",
       "    <tr>\n",
       "      <th>2</th>\n",
       "      <td>5</td>\n",
       "      <td>1</td>\n",
       "      <td>0</td>\n",
       "      <td>0</td>\n",
       "      <td>0</td>\n",
       "      <td>0</td>\n",
       "      <td>0</td>\n",
       "      <td>0</td>\n",
       "      <td>0</td>\n",
       "      <td>0</td>\n",
       "      <td>0</td>\n",
       "      <td>0</td>\n",
       "    </tr>\n",
       "    <tr>\n",
       "      <th>3</th>\n",
       "      <td>9</td>\n",
       "      <td>1</td>\n",
       "      <td>0</td>\n",
       "      <td>0</td>\n",
       "      <td>0</td>\n",
       "      <td>0</td>\n",
       "      <td>0</td>\n",
       "      <td>0</td>\n",
       "      <td>0</td>\n",
       "      <td>0</td>\n",
       "      <td>0</td>\n",
       "      <td>0</td>\n",
       "    </tr>\n",
       "    <tr>\n",
       "      <th>4</th>\n",
       "      <td>40</td>\n",
       "      <td>1</td>\n",
       "      <td>0</td>\n",
       "      <td>0</td>\n",
       "      <td>0</td>\n",
       "      <td>0</td>\n",
       "      <td>0</td>\n",
       "      <td>0</td>\n",
       "      <td>0</td>\n",
       "      <td>0</td>\n",
       "      <td>0</td>\n",
       "      <td>0</td>\n",
       "    </tr>\n",
       "  </tbody>\n",
       "</table>\n",
       "</div>"
      ],
      "text/plain": [
       "   Quantity  Zero  One  Two  Three  Four  Five  Six  Ten  Fifteen  Twenty  \\\n",
       "0        12     1    0    0      0     0     0    0    0        0       0   \n",
       "1        10     1    0    0      0     0     0    0    0        0       0   \n",
       "2         5     1    0    0      0     0     0    0    0        0       0   \n",
       "3         9     1    0    0      0     0     0    0    0        0       0   \n",
       "4        40     1    0    0      0     0     0    0    0        0       0   \n",
       "\n",
       "   TwentyFive  \n",
       "0           0  \n",
       "1           0  \n",
       "2           0  \n",
       "3           0  \n",
       "4           0  "
      ]
     },
     "execution_count": 16,
     "metadata": {},
     "output_type": "execute_result"
    }
   ],
   "source": [
    "d_df = df.iloc[:,4:5]\n",
    "changer = {0.0: 'Zero', 0.01: 'One', 0.02: 'Two', 0.03: 'Three', 0.04: 'Four', 0.05: 'Five', 0.06: 'Six',\n",
    "           0.1: 'Ten', 0.15: 'Fifteen', 0.2: 'Twenty', 0.25: 'TwentyFive'}\n",
    "\n",
    "cols = [changer[x] for x in changer]\n",
    "\n",
    "dd_df = pd.get_dummies(df['Discount'])\n",
    "dd_df.columns = cols\n",
    "\n",
    "d_df = pd.concat([d_df, dd_df], axis=1)\n",
    "\n",
    "d_df.head()"
   ]
  },
  {
   "cell_type": "markdown",
   "metadata": {},
   "source": [
    "# Interpreting Results:"
   ]
  },
  {
   "cell_type": "markdown",
   "metadata": {},
   "source": [
    "Here I used the ANOVA method to see the effect of disounts on the quantity sold. As shown below the discounts do have a significant influence on the quantity sold. Not all of them, just 5% and 10% and above. "
   ]
  },
  {
   "cell_type": "code",
   "execution_count": 17,
   "metadata": {},
   "outputs": [
    {
     "name": "stdout",
     "output_type": "stream",
     "text": [
      "                      sum_sq      df          F    PR(>F)\n",
      "C(Zero)          2201.012431     1.0   6.224395  0.012675\n",
      "C(One)            165.732104     1.0   0.468685  0.493667\n",
      "C(Two)            321.435965     1.0   0.909011  0.340484\n",
      "C(Three)          494.490733     1.0   1.398405  0.237122\n",
      "C(Four)           194.656068     1.0   0.550481  0.458202\n",
      "C(Five)          6317.579398     1.0  17.865919  0.000025\n",
      "C(Six)            165.732104     1.0   0.468685  0.493667\n",
      "C(Ten)           4032.122726     1.0  11.402719  0.000746\n",
      "C(Fifteen)       6489.102659     1.0  18.350982  0.000019\n",
      "C(Twenty)        5348.649079     1.0  15.125814  0.000104\n",
      "C(TwentyFive)    6341.809702     1.0  17.934442  0.000024\n",
      "Residual       758141.232591  2144.0        NaN       NaN\n"
     ]
    }
   ],
   "source": [
    "formula = 'Quantity ~ C(Zero) + C(One) + C(Two) + C(Three) + C(Four) + C(Five) + C(Six) + C(Ten) + C(Fifteen) + C(Twenty) + C(TwentyFive)'\n",
    "lm = ols(formula, d_df).fit()\n",
    "table = sm.stats.anova_lm(lm, typ=2)\n",
    "print(table)"
   ]
  },
  {
   "cell_type": "markdown",
   "metadata": {},
   "source": [
    "--------------------------------------------------------------------------------------------------------------------"
   ]
  },
  {
   "cell_type": "markdown",
   "metadata": {},
   "source": [
    "# Here I am testing the hypothesis: \n",
    "### Ho: Discounts do not have a statistically significant effect on the avg revenue.\n",
    "### H1: Discounts DO have a statistically significant effect on the avg revenue."
   ]
  },
  {
   "cell_type": "markdown",
   "metadata": {},
   "source": [
    "# Data Exploration:"
   ]
  },
  {
   "cell_type": "markdown",
   "metadata": {},
   "source": [
    "I am getting the data needed to test the hypothesis and previewing it to make sure that it loaded correctly."
   ]
  },
  {
   "cell_type": "code",
   "execution_count": 19,
   "metadata": {},
   "outputs": [
    {
     "data": {
      "text/html": [
       "<div>\n",
       "<style scoped>\n",
       "    .dataframe tbody tr th:only-of-type {\n",
       "        vertical-align: middle;\n",
       "    }\n",
       "\n",
       "    .dataframe tbody tr th {\n",
       "        vertical-align: top;\n",
       "    }\n",
       "\n",
       "    .dataframe thead th {\n",
       "        text-align: right;\n",
       "    }\n",
       "</style>\n",
       "<table border=\"1\" class=\"dataframe\">\n",
       "  <thead>\n",
       "    <tr style=\"text-align: right;\">\n",
       "      <th></th>\n",
       "      <th>Id</th>\n",
       "      <th>OrderId</th>\n",
       "      <th>ProductId</th>\n",
       "      <th>UnitPrice</th>\n",
       "      <th>Quantity</th>\n",
       "      <th>Discount</th>\n",
       "    </tr>\n",
       "  </thead>\n",
       "  <tbody>\n",
       "    <tr>\n",
       "      <th>0</th>\n",
       "      <td>10248/11</td>\n",
       "      <td>10248</td>\n",
       "      <td>11</td>\n",
       "      <td>14.0</td>\n",
       "      <td>12</td>\n",
       "      <td>0.0</td>\n",
       "    </tr>\n",
       "    <tr>\n",
       "      <th>1</th>\n",
       "      <td>10248/42</td>\n",
       "      <td>10248</td>\n",
       "      <td>42</td>\n",
       "      <td>9.8</td>\n",
       "      <td>10</td>\n",
       "      <td>0.0</td>\n",
       "    </tr>\n",
       "    <tr>\n",
       "      <th>2</th>\n",
       "      <td>10248/72</td>\n",
       "      <td>10248</td>\n",
       "      <td>72</td>\n",
       "      <td>34.8</td>\n",
       "      <td>5</td>\n",
       "      <td>0.0</td>\n",
       "    </tr>\n",
       "    <tr>\n",
       "      <th>3</th>\n",
       "      <td>10249/14</td>\n",
       "      <td>10249</td>\n",
       "      <td>14</td>\n",
       "      <td>18.6</td>\n",
       "      <td>9</td>\n",
       "      <td>0.0</td>\n",
       "    </tr>\n",
       "    <tr>\n",
       "      <th>4</th>\n",
       "      <td>10249/51</td>\n",
       "      <td>10249</td>\n",
       "      <td>51</td>\n",
       "      <td>42.4</td>\n",
       "      <td>40</td>\n",
       "      <td>0.0</td>\n",
       "    </tr>\n",
       "  </tbody>\n",
       "</table>\n",
       "</div>"
      ],
      "text/plain": [
       "         Id  OrderId  ProductId  UnitPrice  Quantity  Discount\n",
       "0  10248/11    10248         11       14.0        12       0.0\n",
       "1  10248/42    10248         42        9.8        10       0.0\n",
       "2  10248/72    10248         72       34.8         5       0.0\n",
       "3  10249/14    10249         14       18.6         9       0.0\n",
       "4  10249/51    10249         51       42.4        40       0.0"
      ]
     },
     "execution_count": 19,
     "metadata": {},
     "output_type": "execute_result"
    }
   ],
   "source": [
    "c.execute(\"\"\"select * from orderdetail;\"\"\")\n",
    "\n",
    "ndf = pd.DataFrame(c.fetchall())\n",
    "ndf.columns = [i[0] for i in c.description]\n",
    "ndf.head()"
   ]
  },
  {
   "cell_type": "markdown",
   "metadata": {},
   "source": [
    "Here I am creating a column with the actual price of of the product. I did this to not only take into account the discount being provided but to also see the actual total that will be paid for each order."
   ]
  },
  {
   "cell_type": "code",
   "execution_count": 20,
   "metadata": {},
   "outputs": [],
   "source": [
    "for idx, i in enumerate(ndf.Discount):\n",
    "    p = ndf.UnitPrice\n",
    "    q = ndf.Quantity[idx] \n",
    "    ndf['Order Total'] = round(p * q * (1 - i), 2)"
   ]
  },
  {
   "cell_type": "code",
   "execution_count": 21,
   "metadata": {},
   "outputs": [
    {
     "data": {
      "text/html": [
       "<div>\n",
       "<style scoped>\n",
       "    .dataframe tbody tr th:only-of-type {\n",
       "        vertical-align: middle;\n",
       "    }\n",
       "\n",
       "    .dataframe tbody tr th {\n",
       "        vertical-align: top;\n",
       "    }\n",
       "\n",
       "    .dataframe thead th {\n",
       "        text-align: right;\n",
       "    }\n",
       "</style>\n",
       "<table border=\"1\" class=\"dataframe\">\n",
       "  <thead>\n",
       "    <tr style=\"text-align: right;\">\n",
       "      <th></th>\n",
       "      <th>Id</th>\n",
       "      <th>OrderId</th>\n",
       "      <th>ProductId</th>\n",
       "      <th>UnitPrice</th>\n",
       "      <th>Quantity</th>\n",
       "      <th>Discount</th>\n",
       "      <th>Order Total</th>\n",
       "    </tr>\n",
       "  </thead>\n",
       "  <tbody>\n",
       "    <tr>\n",
       "      <th>0</th>\n",
       "      <td>10248/11</td>\n",
       "      <td>10248</td>\n",
       "      <td>11</td>\n",
       "      <td>14.0</td>\n",
       "      <td>12</td>\n",
       "      <td>0.0</td>\n",
       "      <td>28.0</td>\n",
       "    </tr>\n",
       "    <tr>\n",
       "      <th>1</th>\n",
       "      <td>10248/42</td>\n",
       "      <td>10248</td>\n",
       "      <td>42</td>\n",
       "      <td>9.8</td>\n",
       "      <td>10</td>\n",
       "      <td>0.0</td>\n",
       "      <td>19.6</td>\n",
       "    </tr>\n",
       "    <tr>\n",
       "      <th>2</th>\n",
       "      <td>10248/72</td>\n",
       "      <td>10248</td>\n",
       "      <td>72</td>\n",
       "      <td>34.8</td>\n",
       "      <td>5</td>\n",
       "      <td>0.0</td>\n",
       "      <td>69.6</td>\n",
       "    </tr>\n",
       "    <tr>\n",
       "      <th>3</th>\n",
       "      <td>10249/14</td>\n",
       "      <td>10249</td>\n",
       "      <td>14</td>\n",
       "      <td>18.6</td>\n",
       "      <td>9</td>\n",
       "      <td>0.0</td>\n",
       "      <td>37.2</td>\n",
       "    </tr>\n",
       "    <tr>\n",
       "      <th>4</th>\n",
       "      <td>10249/51</td>\n",
       "      <td>10249</td>\n",
       "      <td>51</td>\n",
       "      <td>42.4</td>\n",
       "      <td>40</td>\n",
       "      <td>0.0</td>\n",
       "      <td>84.8</td>\n",
       "    </tr>\n",
       "  </tbody>\n",
       "</table>\n",
       "</div>"
      ],
      "text/plain": [
       "         Id  OrderId  ProductId  UnitPrice  Quantity  Discount  Order Total\n",
       "0  10248/11    10248         11       14.0        12       0.0         28.0\n",
       "1  10248/42    10248         42        9.8        10       0.0         19.6\n",
       "2  10248/72    10248         72       34.8         5       0.0         69.6\n",
       "3  10249/14    10249         14       18.6         9       0.0         37.2\n",
       "4  10249/51    10249         51       42.4        40       0.0         84.8"
      ]
     },
     "execution_count": 21,
     "metadata": {},
     "output_type": "execute_result"
    }
   ],
   "source": [
    "ndf.head()"
   ]
  },
  {
   "cell_type": "markdown",
   "metadata": {},
   "source": [
    "# Statistical Analysis:"
   ]
  },
  {
   "cell_type": "markdown",
   "metadata": {},
   "source": [
    "Here I am taking a look at the raw data when it comes to the hypothesis being tested. Based off what I am seeing there is not going to be a statistically signifigant difference as I predicted. "
   ]
  },
  {
   "cell_type": "code",
   "execution_count": 22,
   "metadata": {
    "scrolled": true
   },
   "outputs": [],
   "source": [
    "cat = np.sort([x for x in ndf.Discount.unique()])\n",
    "\n",
    "cats = {}\n",
    "ords = {}\n",
    "\n",
    "for i in cat:\n",
    "    cats[i] = 0\n",
    "    ords[i] = 0\n",
    "\n",
    "for idx, i in enumerate(ndf.Discount):\n",
    "    cats[i] += ndf['Order Total'][idx]\n",
    "    ords[i] += ndf['Quantity'][idx]"
   ]
  },
  {
   "cell_type": "code",
   "execution_count": 23,
   "metadata": {},
   "outputs": [],
   "source": [
    "disc_total = 0\n",
    "disc_rev = 0\n",
    "\n",
    "for i in ords:\n",
    "    if ords[i] != 28599:\n",
    "        disc_total += ords[i]\n",
    "        disc_rev += cats[i]"
   ]
  },
  {
   "cell_type": "code",
   "execution_count": 24,
   "metadata": {},
   "outputs": [
    {
     "name": "stdout",
     "output_type": "stream",
     "text": [
      "The total number of products sold that were not discounted: 28599\n",
      "The total number of products sold that were discounted: 22718\n",
      "The total revenue brought in by non-discounted products is: 68935.82\n",
      "The total revenue brought in by discounted products is: 44066.0\n"
     ]
    }
   ],
   "source": [
    "print(\"The total number of products sold that were not discounted: {}\".format(ords[0]))\n",
    "print(\"The total number of products sold that were discounted: {}\".format(disc_total))\n",
    "print(\"The total revenue brought in by non-discounted products is: {}\".format(round(cats[0], 2)))\n",
    "print(\"The total revenue brought in by discounted products is: {}\".format(round(disc_rev, 1)))"
   ]
  },
  {
   "cell_type": "markdown",
   "metadata": {},
   "source": [
    "Here I have confirmed that the two datasets that I am analyzing are from similar distributions. After that, I have confirmed my initial assessment of the data: there is not a statistically signifigant difference between the two datasets. "
   ]
  },
  {
   "cell_type": "code",
   "execution_count": 25,
   "metadata": {},
   "outputs": [],
   "source": [
    "nd = ndf.loc[ndf.Discount == 0]\n",
    "dd = ndf.loc[ndf.Discount > 0]"
   ]
  },
  {
   "cell_type": "code",
   "execution_count": 26,
   "metadata": {},
   "outputs": [],
   "source": [
    "ndt = [x for x in nd['Order Total']]\n",
    "dt = [x for x in dd['Order Total']]"
   ]
  },
  {
   "cell_type": "code",
   "execution_count": 27,
   "metadata": {
    "scrolled": false
   },
   "outputs": [
    {
     "name": "stdout",
     "output_type": "stream",
     "text": [
      "Ks_2sampResult(statistic=0.03294262834278383, pvalue=0.6278127992612477)\n"
     ]
    },
    {
     "data": {
      "image/png": "[encoded data removed]",
      "text/plain": [
       "<Figure size 864x504 with 1 Axes>"
      ]
     },
     "metadata": {
      "needs_background": "light"
     },
     "output_type": "display_data"
    }
   ],
   "source": [
    "print(stats.ks_2samp(ndt, dt))\n",
    "ks_plot_2sample(ndt, dt)"
   ]
  },
  {
   "cell_type": "code",
   "execution_count": 28,
   "metadata": {},
   "outputs": [],
   "source": [
    "mus1, dev1 = ND_stats(ndt, dt, 500)\n",
    "mus, dev = Disc_stats(ndt, dt, 500)"
   ]
  },
  {
   "cell_type": "code",
   "execution_count": 29,
   "metadata": {},
   "outputs": [
    {
     "data": {
      "text/plain": [
       "0.142239811679643"
      ]
     },
     "execution_count": 29,
     "metadata": {},
     "output_type": "execute_result"
    }
   ],
   "source": [
    "Cohen_d(mus, mus1)"
   ]
  },
  {
   "cell_type": "markdown",
   "metadata": {},
   "source": [
    "# Interpreting Results:"
   ]
  },
  {
   "cell_type": "code",
   "execution_count": 30,
   "metadata": {},
   "outputs": [
    {
     "name": "stdout",
     "output_type": "stream",
     "text": [
      "Average dollar amount spent (Non-Discounted): 52.323075496\n",
      "Average devation from total population: 2.726913884592145\n",
      "Average devation from sample population: 0.01999208182839851\n"
     ]
    }
   ],
   "source": [
    "print(\"Average dollar amount spent (Non-Discounted): {}\".format(np.mean(mus1)))\n",
    "print('Average devation from total population: {}'.format(np.mean(devs1)))\n",
    "print('Average devation from sample population: {}'.format(abs(np.mean(mus1) - np.mean(ndt))))"
   ]
  },
  {
   "cell_type": "code",
   "execution_count": 31,
   "metadata": {},
   "outputs": [
    {
     "name": "stdout",
     "output_type": "stream",
     "text": [
      "Average dollar amount spent (Discounted): 52.594981744\n",
      "Average devation from total population: 4.27641293897281\n",
      "Average devation from sample population: 0.010256207007159901\n"
     ]
    }
   ],
   "source": [
    "print(\"Average dollar amount spent (Discounted): {}\".format(np.mean(mus)))\n",
    "print('Average devation from total population: {}'.format(np.mean(devs)))\n",
    "print('Average devation from sample population: {}'.format(abs(np.mean(mus) - np.mean(dt))))"
   ]
  },
  {
   "cell_type": "markdown",
   "metadata": {},
   "source": [
    "Here we would have to accept the null hypothesis and reject my hypothesis that providing a discount will affect the avg revenue brought in per sale."
   ]
  },
  {
   "cell_type": "markdown",
   "metadata": {},
   "source": [
    "---------------------------------------------------------------------------------------------------------------------"
   ]
  },
  {
   "cell_type": "markdown",
   "metadata": {},
   "source": [
    "# Here I am testing the hypothesis: \n",
    "### Ho: Customers do not have a statistically signifigant bias towards purchasing discounted products.\n",
    "### H1: Customers DO have a statistically signifigant bias towards purchasing discounted products."
   ]
  },
  {
   "cell_type": "markdown",
   "metadata": {},
   "source": [
    "# Data Exploration:"
   ]
  },
  {
   "cell_type": "markdown",
   "metadata": {},
   "source": [
    "I am getting the data needed to test the hypothesis and previewing it to make sure that it loaded correctly."
   ]
  },
  {
   "cell_type": "code",
   "execution_count": 15,
   "metadata": {},
   "outputs": [
    {
     "data": {
      "text/html": [
       "<div>\n",
       "<style scoped>\n",
       "    .dataframe tbody tr th:only-of-type {\n",
       "        vertical-align: middle;\n",
       "    }\n",
       "\n",
       "    .dataframe tbody tr th {\n",
       "        vertical-align: top;\n",
       "    }\n",
       "\n",
       "    .dataframe thead th {\n",
       "        text-align: right;\n",
       "    }\n",
       "</style>\n",
       "<table border=\"1\" class=\"dataframe\">\n",
       "  <thead>\n",
       "    <tr style=\"text-align: right;\">\n",
       "      <th></th>\n",
       "      <th>Id</th>\n",
       "      <th>OrderId</th>\n",
       "      <th>ProductId</th>\n",
       "      <th>UnitPrice</th>\n",
       "      <th>Quantity</th>\n",
       "      <th>Discount</th>\n",
       "      <th>Id</th>\n",
       "      <th>CustomerId</th>\n",
       "      <th>EmployeeId</th>\n",
       "      <th>OrderDate</th>\n",
       "      <th>...</th>\n",
       "      <th>CompanyName</th>\n",
       "      <th>ContactName</th>\n",
       "      <th>ContactTitle</th>\n",
       "      <th>Address</th>\n",
       "      <th>City</th>\n",
       "      <th>Region</th>\n",
       "      <th>PostalCode</th>\n",
       "      <th>Country</th>\n",
       "      <th>Phone</th>\n",
       "      <th>Fax</th>\n",
       "    </tr>\n",
       "  </thead>\n",
       "  <tbody>\n",
       "    <tr>\n",
       "      <th>0</th>\n",
       "      <td>10248/11</td>\n",
       "      <td>10248</td>\n",
       "      <td>11</td>\n",
       "      <td>14.0</td>\n",
       "      <td>12</td>\n",
       "      <td>0.0</td>\n",
       "      <td>10248</td>\n",
       "      <td>VINET</td>\n",
       "      <td>5</td>\n",
       "      <td>2012-07-04</td>\n",
       "      <td>...</td>\n",
       "      <td>Vins et alcools Chevalier</td>\n",
       "      <td>Paul Henriot</td>\n",
       "      <td>Accounting Manager</td>\n",
       "      <td>59 rue de l'Abbaye</td>\n",
       "      <td>Reims</td>\n",
       "      <td>Western Europe</td>\n",
       "      <td>51100</td>\n",
       "      <td>France</td>\n",
       "      <td>26.47.15.10</td>\n",
       "      <td>26.47.15.11</td>\n",
       "    </tr>\n",
       "    <tr>\n",
       "      <th>1</th>\n",
       "      <td>10248/42</td>\n",
       "      <td>10248</td>\n",
       "      <td>42</td>\n",
       "      <td>9.8</td>\n",
       "      <td>10</td>\n",
       "      <td>0.0</td>\n",
       "      <td>10248</td>\n",
       "      <td>VINET</td>\n",
       "      <td>5</td>\n",
       "      <td>2012-07-04</td>\n",
       "      <td>...</td>\n",
       "      <td>Vins et alcools Chevalier</td>\n",
       "      <td>Paul Henriot</td>\n",
       "      <td>Accounting Manager</td>\n",
       "      <td>59 rue de l'Abbaye</td>\n",
       "      <td>Reims</td>\n",
       "      <td>Western Europe</td>\n",
       "      <td>51100</td>\n",
       "      <td>France</td>\n",
       "      <td>26.47.15.10</td>\n",
       "      <td>26.47.15.11</td>\n",
       "    </tr>\n",
       "    <tr>\n",
       "      <th>2</th>\n",
       "      <td>10248/72</td>\n",
       "      <td>10248</td>\n",
       "      <td>72</td>\n",
       "      <td>34.8</td>\n",
       "      <td>5</td>\n",
       "      <td>0.0</td>\n",
       "      <td>10248</td>\n",
       "      <td>VINET</td>\n",
       "      <td>5</td>\n",
       "      <td>2012-07-04</td>\n",
       "      <td>...</td>\n",
       "      <td>Vins et alcools Chevalier</td>\n",
       "      <td>Paul Henriot</td>\n",
       "      <td>Accounting Manager</td>\n",
       "      <td>59 rue de l'Abbaye</td>\n",
       "      <td>Reims</td>\n",
       "      <td>Western Europe</td>\n",
       "      <td>51100</td>\n",
       "      <td>France</td>\n",
       "      <td>26.47.15.10</td>\n",
       "      <td>26.47.15.11</td>\n",
       "    </tr>\n",
       "    <tr>\n",
       "      <th>3</th>\n",
       "      <td>10249/14</td>\n",
       "      <td>10249</td>\n",
       "      <td>14</td>\n",
       "      <td>18.6</td>\n",
       "      <td>9</td>\n",
       "      <td>0.0</td>\n",
       "      <td>10249</td>\n",
       "      <td>TOMSP</td>\n",
       "      <td>6</td>\n",
       "      <td>2012-07-05</td>\n",
       "      <td>...</td>\n",
       "      <td>Toms Spezialitäten</td>\n",
       "      <td>Karin Josephs</td>\n",
       "      <td>Marketing Manager</td>\n",
       "      <td>Luisenstr. 48</td>\n",
       "      <td>Münster</td>\n",
       "      <td>Western Europe</td>\n",
       "      <td>44087</td>\n",
       "      <td>Germany</td>\n",
       "      <td>0251-031259</td>\n",
       "      <td>0251-035695</td>\n",
       "    </tr>\n",
       "    <tr>\n",
       "      <th>4</th>\n",
       "      <td>10249/51</td>\n",
       "      <td>10249</td>\n",
       "      <td>51</td>\n",
       "      <td>42.4</td>\n",
       "      <td>40</td>\n",
       "      <td>0.0</td>\n",
       "      <td>10249</td>\n",
       "      <td>TOMSP</td>\n",
       "      <td>6</td>\n",
       "      <td>2012-07-05</td>\n",
       "      <td>...</td>\n",
       "      <td>Toms Spezialitäten</td>\n",
       "      <td>Karin Josephs</td>\n",
       "      <td>Marketing Manager</td>\n",
       "      <td>Luisenstr. 48</td>\n",
       "      <td>Münster</td>\n",
       "      <td>Western Europe</td>\n",
       "      <td>44087</td>\n",
       "      <td>Germany</td>\n",
       "      <td>0251-031259</td>\n",
       "      <td>0251-035695</td>\n",
       "    </tr>\n",
       "  </tbody>\n",
       "</table>\n",
       "<p>5 rows × 31 columns</p>\n",
       "</div>"
      ],
      "text/plain": [
       "         Id  OrderId  ProductId  UnitPrice  Quantity  Discount     Id  \\\n",
       "0  10248/11    10248         11       14.0        12       0.0  10248   \n",
       "1  10248/42    10248         42        9.8        10       0.0  10248   \n",
       "2  10248/72    10248         72       34.8         5       0.0  10248   \n",
       "3  10249/14    10249         14       18.6         9       0.0  10249   \n",
       "4  10249/51    10249         51       42.4        40       0.0  10249   \n",
       "\n",
       "  CustomerId  EmployeeId   OrderDate     ...                     CompanyName  \\\n",
       "0      VINET           5  2012-07-04     ...       Vins et alcools Chevalier   \n",
       "1      VINET           5  2012-07-04     ...       Vins et alcools Chevalier   \n",
       "2      VINET           5  2012-07-04     ...       Vins et alcools Chevalier   \n",
       "3      TOMSP           6  2012-07-05     ...              Toms Spezialitäten   \n",
       "4      TOMSP           6  2012-07-05     ...              Toms Spezialitäten   \n",
       "\n",
       "     ContactName        ContactTitle             Address     City  \\\n",
       "0   Paul Henriot  Accounting Manager  59 rue de l'Abbaye    Reims   \n",
       "1   Paul Henriot  Accounting Manager  59 rue de l'Abbaye    Reims   \n",
       "2   Paul Henriot  Accounting Manager  59 rue de l'Abbaye    Reims   \n",
       "3  Karin Josephs   Marketing Manager       Luisenstr. 48  Münster   \n",
       "4  Karin Josephs   Marketing Manager       Luisenstr. 48  Münster   \n",
       "\n",
       "           Region PostalCode  Country        Phone          Fax  \n",
       "0  Western Europe      51100   France  26.47.15.10  26.47.15.11  \n",
       "1  Western Europe      51100   France  26.47.15.10  26.47.15.11  \n",
       "2  Western Europe      51100   France  26.47.15.10  26.47.15.11  \n",
       "3  Western Europe      44087  Germany  0251-031259  0251-035695  \n",
       "4  Western Europe      44087  Germany  0251-031259  0251-035695  \n",
       "\n",
       "[5 rows x 31 columns]"
      ]
     },
     "execution_count": 15,
     "metadata": {},
     "output_type": "execute_result"
    }
   ],
   "source": [
    "c.execute('''select * from OrderDetail join \"Order\" on OrderDetail.OrderID = \"Order\".Id join \n",
    "             Customer on \"Order\".CustomerID = Customer.Id;''')\n",
    "\n",
    "pdf = pd.DataFrame(c.fetchall())\n",
    "pdf.columns = [x[0] for x in c.description]\n",
    "pdf.head()"
   ]
  },
  {
   "cell_type": "markdown",
   "metadata": {},
   "source": [
    "I am simplifying the dataframe to make it easier to work with."
   ]
  },
  {
   "cell_type": "code",
   "execution_count": 16,
   "metadata": {
    "scrolled": true
   },
   "outputs": [
    {
     "data": {
      "text/html": [
       "<div>\n",
       "<style scoped>\n",
       "    .dataframe tbody tr th:only-of-type {\n",
       "        vertical-align: middle;\n",
       "    }\n",
       "\n",
       "    .dataframe tbody tr th {\n",
       "        vertical-align: top;\n",
       "    }\n",
       "\n",
       "    .dataframe thead th {\n",
       "        text-align: right;\n",
       "    }\n",
       "</style>\n",
       "<table border=\"1\" class=\"dataframe\">\n",
       "  <thead>\n",
       "    <tr style=\"text-align: right;\">\n",
       "      <th></th>\n",
       "      <th>OrderId</th>\n",
       "      <th>UnitPrice</th>\n",
       "      <th>Quantity</th>\n",
       "      <th>Discount</th>\n",
       "      <th>RequiredDate</th>\n",
       "      <th>Freight</th>\n",
       "      <th>CompanyName</th>\n",
       "    </tr>\n",
       "  </thead>\n",
       "  <tbody>\n",
       "    <tr>\n",
       "      <th>0</th>\n",
       "      <td>10248</td>\n",
       "      <td>14.0</td>\n",
       "      <td>12</td>\n",
       "      <td>0.0</td>\n",
       "      <td>2012-08-01</td>\n",
       "      <td>32.38</td>\n",
       "      <td>Vins et alcools Chevalier</td>\n",
       "    </tr>\n",
       "    <tr>\n",
       "      <th>1</th>\n",
       "      <td>10248</td>\n",
       "      <td>9.8</td>\n",
       "      <td>10</td>\n",
       "      <td>0.0</td>\n",
       "      <td>2012-08-01</td>\n",
       "      <td>32.38</td>\n",
       "      <td>Vins et alcools Chevalier</td>\n",
       "    </tr>\n",
       "    <tr>\n",
       "      <th>2</th>\n",
       "      <td>10248</td>\n",
       "      <td>34.8</td>\n",
       "      <td>5</td>\n",
       "      <td>0.0</td>\n",
       "      <td>2012-08-01</td>\n",
       "      <td>32.38</td>\n",
       "      <td>Vins et alcools Chevalier</td>\n",
       "    </tr>\n",
       "    <tr>\n",
       "      <th>3</th>\n",
       "      <td>10249</td>\n",
       "      <td>18.6</td>\n",
       "      <td>9</td>\n",
       "      <td>0.0</td>\n",
       "      <td>2012-08-16</td>\n",
       "      <td>11.61</td>\n",
       "      <td>Toms Spezialitäten</td>\n",
       "    </tr>\n",
       "    <tr>\n",
       "      <th>4</th>\n",
       "      <td>10249</td>\n",
       "      <td>42.4</td>\n",
       "      <td>40</td>\n",
       "      <td>0.0</td>\n",
       "      <td>2012-08-16</td>\n",
       "      <td>11.61</td>\n",
       "      <td>Toms Spezialitäten</td>\n",
       "    </tr>\n",
       "  </tbody>\n",
       "</table>\n",
       "</div>"
      ],
      "text/plain": [
       "   OrderId  UnitPrice  Quantity  Discount RequiredDate  Freight  \\\n",
       "0    10248       14.0        12       0.0   2012-08-01    32.38   \n",
       "1    10248        9.8        10       0.0   2012-08-01    32.38   \n",
       "2    10248       34.8         5       0.0   2012-08-01    32.38   \n",
       "3    10249       18.6         9       0.0   2012-08-16    11.61   \n",
       "4    10249       42.4        40       0.0   2012-08-16    11.61   \n",
       "\n",
       "                 CompanyName  \n",
       "0  Vins et alcools Chevalier  \n",
       "1  Vins et alcools Chevalier  \n",
       "2  Vins et alcools Chevalier  \n",
       "3         Toms Spezialitäten  \n",
       "4         Toms Spezialitäten  "
      ]
     },
     "execution_count": 16,
     "metadata": {},
     "output_type": "execute_result"
    }
   ],
   "source": [
    "pdf = pdf.drop(['Id', 'ProductId', 'CustomerId', 'EmployeeId', 'OrderDate', 'ShippedDate', 'ShipVia', 'ShipName', 'ShipAddress', 'ShipCity', 'ShipRegion', 'ShipPostalCode', 'ShipCountry', 'Phone', 'Fax', 'Country', 'PostalCode', 'Region', 'City', 'Address', 'ContactTitle', 'ContactName'], axis=1)\n",
    "pdf.head()"
   ]
  },
  {
   "cell_type": "markdown",
   "metadata": {},
   "source": [
    "# Statistical Analysis:"
   ]
  },
  {
   "cell_type": "markdown",
   "metadata": {},
   "source": [
    "Here I am gathering the number of companies that have made purchases."
   ]
  },
  {
   "cell_type": "code",
   "execution_count": 17,
   "metadata": {},
   "outputs": [
    {
     "data": {
      "text/plain": [
       "85"
      ]
     },
     "execution_count": 17,
     "metadata": {},
     "output_type": "execute_result"
    }
   ],
   "source": [
    "len(pdf.CompanyName.unique())"
   ]
  },
  {
   "cell_type": "markdown",
   "metadata": {},
   "source": [
    "Here I am creating a dictionary with the total quantity purchased by each customer for and seperating them by whether the product was discounted or not."
   ]
  },
  {
   "cell_type": "code",
   "execution_count": 18,
   "metadata": {},
   "outputs": [],
   "source": [
    "disc_dict = {}\n",
    "disc_buyers = []\n",
    "\n",
    "for i in pdf.CompanyName.unique():\n",
    "    df = pdf.groupby(['CompanyName'])\n",
    "    w = df.get_group(i)\n",
    "    \n",
    "    d = w.loc[w['Discount'] == 0]\n",
    "    d_sum = d.Quantity.sum()\n",
    "    \n",
    "    nd = w.loc[w['Discount'] > 0]\n",
    "    nd_sum = nd.Quantity.sum()\n",
    "    \n",
    "    \n",
    "    disc_dict[i] = [d_sum,nd_sum]"
   ]
  },
  {
   "cell_type": "markdown",
   "metadata": {},
   "source": [
    "This is each companies percentage of goods purchased that were discounted and that weren't discounted."
   ]
  },
  {
   "cell_type": "code",
   "execution_count": 19,
   "metadata": {},
   "outputs": [],
   "source": [
    "dis = [round(int(disc_dict[x][0])/(int(disc_dict[x][0])+int(disc_dict[x][1])), 2) for x in disc_dict]\n",
    "ndis = [round(int(disc_dict[x][1])/(int(disc_dict[x][0])+int(disc_dict[x][1])), 2) for x in disc_dict]"
   ]
  },
  {
   "cell_type": "code",
   "execution_count": 20,
   "metadata": {},
   "outputs": [
    {
     "data": {
      "text/plain": [
       "0.26323576076199195"
      ]
     },
     "execution_count": 20,
     "metadata": {},
     "output_type": "execute_result"
    }
   ],
   "source": [
    "np.std(dis)"
   ]
  },
  {
   "cell_type": "markdown",
   "metadata": {},
   "source": [
    "Here I am plotting the distribution of discounted quantity percentages per company against a normal distribution and it clearly shows that the discounted percentages are not normally distributed."
   ]
  },
  {
   "cell_type": "code",
   "execution_count": 21,
   "metadata": {},
   "outputs": [
    {
     "data": {
      "image/png": "[encoded data removed]",
      "text/plain": [
       "<Figure size 720x504 with 1 Axes>"
      ]
     },
     "metadata": {
      "needs_background": "light"
     },
     "output_type": "display_data"
    }
   ],
   "source": [
    "def ks_plot(data):\n",
    "\n",
    "    plt.figure(figsize=(10, 7))\n",
    "    plt.plot(np.sort(data), np.linspace(0, 1, len(data), endpoint= 1))\n",
    "    plt.plot(np.sort(stats.norm.rvs(loc=.5, scale=.26, size=len(data))), np.linspace(0, 1, len(data), endpoint=False))\n",
    "\n",
    "    plt.legend(['ECDF', 'CDF'])\n",
    "    plt.title('Comparing CDFs for KS-Test, Sample size=' + str(len(data)))\n",
    "    \n",
    "\n",
    "ks_plot(dis)"
   ]
  },
  {
   "cell_type": "markdown",
   "metadata": {},
   "source": [
    "Here I am running a KS test to confirm that we can reject the null hypothesis with a high level of certainty."
   ]
  },
  {
   "cell_type": "code",
   "execution_count": 22,
   "metadata": {
    "scrolled": true
   },
   "outputs": [
    {
     "data": {
      "text/plain": [
       "KstestResult(statistic=0.5225946362615375, pvalue=0.0)"
      ]
     },
     "execution_count": 22,
     "metadata": {},
     "output_type": "execute_result"
    }
   ],
   "source": [
    "stats.kstest(dis, 'norm', args=(0, 3))"
   ]
  },
  {
   "cell_type": "markdown",
   "metadata": {},
   "source": [
    "Here is Cohen's D statistic as a standardized effect size which indicates that there is a very large effect."
   ]
  },
  {
   "cell_type": "code",
   "execution_count": 23,
   "metadata": {
    "scrolled": true
   },
   "outputs": [
    {
     "ename": "NameError",
     "evalue": "name 'Cohen_d' is not defined",
     "output_type": "error",
     "traceback": [
      "\u001b[0;31m---------------------------------------------------------------------------\u001b[0m",
      "\u001b[0;31mNameError\u001b[0m                                 Traceback (most recent call last)",
      "\u001b[0;32m<ipython-input-23-fb9400ed57f3>\u001b[0m in \u001b[0;36m<module>\u001b[0;34m()\u001b[0m\n\u001b[0;32m----> 1\u001b[0;31m \u001b[0mCohen_d\u001b[0m\u001b[0;34m(\u001b[0m\u001b[0mdis\u001b[0m\u001b[0;34m,\u001b[0m \u001b[0mndis\u001b[0m\u001b[0;34m)\u001b[0m\u001b[0;34m\u001b[0m\u001b[0m\n\u001b[0m\u001b[1;32m      2\u001b[0m \u001b[0;34m\u001b[0m\u001b[0m\n\u001b[1;32m      3\u001b[0m \u001b[0;31m# Here is Cohen's D statistic as a standardized effect size which indicates that there is a very large effect\u001b[0m\u001b[0;34m\u001b[0m\u001b[0;34m\u001b[0m\u001b[0m\n",
      "\u001b[0;31mNameError\u001b[0m: name 'Cohen_d' is not defined"
     ]
    }
   ],
   "source": [
    "Cohen_d(dis, ndis)"
   ]
  },
  {
   "cell_type": "markdown",
   "metadata": {},
   "source": [
    "# Interpret Results:"
   ]
  },
  {
   "cell_type": "markdown",
   "metadata": {},
   "source": [
    "I plotted the data as a histogram to further look into the unusual plot that was shown above. This shows that there is a signifigant amount of Customers that ONLY order discounted goods. This is why the distribution is skewed and is not a normal distribution."
   ]
  },
  {
   "cell_type": "code",
   "execution_count": null,
   "metadata": {},
   "outputs": [],
   "source": [
    "plt.hist(dis);"
   ]
  },
  {
   "cell_type": "markdown",
   "metadata": {},
   "source": [
    "This is just for practical purposes. I am finding which Customers are at or above the mean (70%) of their goods purchased being discounted. As shown below, there are 39 Customers that purchase discounted goods 70% of the time which is 45% of customers."
   ]
  },
  {
   "cell_type": "code",
   "execution_count": 24,
   "metadata": {},
   "outputs": [
    {
     "data": {
      "text/plain": [
       "33"
      ]
     },
     "execution_count": 24,
     "metadata": {},
     "output_type": "execute_result"
    }
   ],
   "source": [
    "for i in disc_dict:\n",
    "    a = disc_dict[i][0]\n",
    "    b = disc_dict[i][1]\n",
    "    cc = a / (a + b)\n",
    "    if cc >= 1.0:\n",
    "        disc_buyers.append(i)\n",
    "        \n",
    "len(disc_buyers)"
   ]
  },
  {
   "cell_type": "code",
   "execution_count": 225,
   "metadata": {},
   "outputs": [
    {
     "data": {
      "text/plain": [
       "0.4588235294117647"
      ]
     },
     "execution_count": 225,
     "metadata": {},
     "output_type": "execute_result"
    }
   ],
   "source": [
    "len(disc_buyers)/85"
   ]
  },
  {
   "cell_type": "markdown",
   "metadata": {},
   "source": [
    "Given the data above, we can reject the null hypothesis with a high degree of confidence and say that customers have a high bias towards purchasing discounted goods."
   ]
  },
  {
   "cell_type": "markdown",
   "metadata": {},
   "source": [
    "---------------------------------------------------------------------------------------------------------------------"
   ]
  },
  {
   "cell_type": "markdown",
   "metadata": {},
   "source": [
    "## Here I am testing a common hypothesis for supply chain order fulfillment: \n",
    "### Ho: The perfect order fulfillment is NOT at or above the acceptable standard of 90%.\n",
    "### H1: The perfect order fulfillment is at or above the acceptable standard of 90%."
   ]
  },
  {
   "cell_type": "markdown",
   "metadata": {},
   "source": [
    "# Data Exploration:"
   ]
  },
  {
   "cell_type": "markdown",
   "metadata": {},
   "source": [
    "Here I am loading the appropriate libraries and creating a connection to so that I may access the SQL database."
   ]
  },
  {
   "cell_type": "code",
   "execution_count": 41,
   "metadata": {},
   "outputs": [
    {
     "data": {
      "text/html": [
       "<div>\n",
       "<style scoped>\n",
       "    .dataframe tbody tr th:only-of-type {\n",
       "        vertical-align: middle;\n",
       "    }\n",
       "\n",
       "    .dataframe tbody tr th {\n",
       "        vertical-align: top;\n",
       "    }\n",
       "\n",
       "    .dataframe thead th {\n",
       "        text-align: right;\n",
       "    }\n",
       "</style>\n",
       "<table border=\"1\" class=\"dataframe\">\n",
       "  <thead>\n",
       "    <tr style=\"text-align: right;\">\n",
       "      <th></th>\n",
       "      <th>Id</th>\n",
       "      <th>ProductName</th>\n",
       "      <th>SupplierId</th>\n",
       "      <th>CategoryId</th>\n",
       "      <th>QuantityPerUnit</th>\n",
       "      <th>UnitPrice</th>\n",
       "      <th>UnitsInStock</th>\n",
       "      <th>UnitsOnOrder</th>\n",
       "      <th>ReorderLevel</th>\n",
       "      <th>Discontinued</th>\n",
       "    </tr>\n",
       "  </thead>\n",
       "  <tbody>\n",
       "    <tr>\n",
       "      <th>0</th>\n",
       "      <td>1</td>\n",
       "      <td>Chai</td>\n",
       "      <td>1</td>\n",
       "      <td>1</td>\n",
       "      <td>10 boxes x 20 bags</td>\n",
       "      <td>18.00</td>\n",
       "      <td>39</td>\n",
       "      <td>0</td>\n",
       "      <td>10</td>\n",
       "      <td>0</td>\n",
       "    </tr>\n",
       "    <tr>\n",
       "      <th>1</th>\n",
       "      <td>2</td>\n",
       "      <td>Chang</td>\n",
       "      <td>1</td>\n",
       "      <td>1</td>\n",
       "      <td>24 - 12 oz bottles</td>\n",
       "      <td>19.00</td>\n",
       "      <td>17</td>\n",
       "      <td>40</td>\n",
       "      <td>25</td>\n",
       "      <td>0</td>\n",
       "    </tr>\n",
       "    <tr>\n",
       "      <th>2</th>\n",
       "      <td>3</td>\n",
       "      <td>Aniseed Syrup</td>\n",
       "      <td>1</td>\n",
       "      <td>2</td>\n",
       "      <td>12 - 550 ml bottles</td>\n",
       "      <td>10.00</td>\n",
       "      <td>13</td>\n",
       "      <td>70</td>\n",
       "      <td>25</td>\n",
       "      <td>0</td>\n",
       "    </tr>\n",
       "    <tr>\n",
       "      <th>3</th>\n",
       "      <td>4</td>\n",
       "      <td>Chef Anton's Cajun Seasoning</td>\n",
       "      <td>2</td>\n",
       "      <td>2</td>\n",
       "      <td>48 - 6 oz jars</td>\n",
       "      <td>22.00</td>\n",
       "      <td>53</td>\n",
       "      <td>0</td>\n",
       "      <td>0</td>\n",
       "      <td>0</td>\n",
       "    </tr>\n",
       "    <tr>\n",
       "      <th>4</th>\n",
       "      <td>5</td>\n",
       "      <td>Chef Anton's Gumbo Mix</td>\n",
       "      <td>2</td>\n",
       "      <td>2</td>\n",
       "      <td>36 boxes</td>\n",
       "      <td>21.35</td>\n",
       "      <td>0</td>\n",
       "      <td>0</td>\n",
       "      <td>0</td>\n",
       "      <td>1</td>\n",
       "    </tr>\n",
       "  </tbody>\n",
       "</table>\n",
       "</div>"
      ],
      "text/plain": [
       "   Id                   ProductName  SupplierId  CategoryId  \\\n",
       "0   1                          Chai           1           1   \n",
       "1   2                         Chang           1           1   \n",
       "2   3                 Aniseed Syrup           1           2   \n",
       "3   4  Chef Anton's Cajun Seasoning           2           2   \n",
       "4   5        Chef Anton's Gumbo Mix           2           2   \n",
       "\n",
       "       QuantityPerUnit  UnitPrice  UnitsInStock  UnitsOnOrder  ReorderLevel  \\\n",
       "0   10 boxes x 20 bags      18.00            39             0            10   \n",
       "1   24 - 12 oz bottles      19.00            17            40            25   \n",
       "2  12 - 550 ml bottles      10.00            13            70            25   \n",
       "3       48 - 6 oz jars      22.00            53             0             0   \n",
       "4             36 boxes      21.35             0             0             0   \n",
       "\n",
       "   Discontinued  \n",
       "0             0  \n",
       "1             0  \n",
       "2             0  \n",
       "3             0  \n",
       "4             1  "
      ]
     },
     "execution_count": 41,
     "metadata": {},
     "output_type": "execute_result"
    }
   ],
   "source": [
    "c.execute('''select * from Product;''')\n",
    "\n",
    "xdf = pd.DataFrame(c.fetchall())\n",
    "xdf.columns = [x[0] for x in c.description]\n",
    "xdf.head()"
   ]
  },
  {
   "cell_type": "markdown",
   "metadata": {},
   "source": [
    "Here I have gotten the amount of \"UnitsOnOrder\" and then filtered out the \"Products\" that are able to be fulfilled. When I was exploring this table I noticed that units in stock were less than those on order so I wanted to check the hypothesis mentioned above."
   ]
  },
  {
   "cell_type": "code",
   "execution_count": 42,
   "metadata": {},
   "outputs": [],
   "source": [
    "tot_ord = sum(xdf.UnitsOnOrder)"
   ]
  },
  {
   "cell_type": "code",
   "execution_count": 43,
   "metadata": {},
   "outputs": [
    {
     "data": {
      "text/html": [
       "<div>\n",
       "<style scoped>\n",
       "    .dataframe tbody tr th:only-of-type {\n",
       "        vertical-align: middle;\n",
       "    }\n",
       "\n",
       "    .dataframe tbody tr th {\n",
       "        vertical-align: top;\n",
       "    }\n",
       "\n",
       "    .dataframe thead th {\n",
       "        text-align: right;\n",
       "    }\n",
       "</style>\n",
       "<table border=\"1\" class=\"dataframe\">\n",
       "  <thead>\n",
       "    <tr style=\"text-align: right;\">\n",
       "      <th></th>\n",
       "      <th>Id</th>\n",
       "      <th>ProductName</th>\n",
       "      <th>SupplierId</th>\n",
       "      <th>CategoryId</th>\n",
       "      <th>QuantityPerUnit</th>\n",
       "      <th>UnitPrice</th>\n",
       "      <th>UnitsInStock</th>\n",
       "      <th>UnitsOnOrder</th>\n",
       "      <th>ReorderLevel</th>\n",
       "      <th>Discontinued</th>\n",
       "    </tr>\n",
       "  </thead>\n",
       "  <tbody>\n",
       "    <tr>\n",
       "      <th>1</th>\n",
       "      <td>2</td>\n",
       "      <td>Chang</td>\n",
       "      <td>1</td>\n",
       "      <td>1</td>\n",
       "      <td>24 - 12 oz bottles</td>\n",
       "      <td>19.00</td>\n",
       "      <td>17</td>\n",
       "      <td>40</td>\n",
       "      <td>25</td>\n",
       "      <td>0</td>\n",
       "    </tr>\n",
       "    <tr>\n",
       "      <th>2</th>\n",
       "      <td>3</td>\n",
       "      <td>Aniseed Syrup</td>\n",
       "      <td>1</td>\n",
       "      <td>2</td>\n",
       "      <td>12 - 550 ml bottles</td>\n",
       "      <td>10.00</td>\n",
       "      <td>13</td>\n",
       "      <td>70</td>\n",
       "      <td>25</td>\n",
       "      <td>0</td>\n",
       "    </tr>\n",
       "    <tr>\n",
       "      <th>10</th>\n",
       "      <td>11</td>\n",
       "      <td>Queso Cabrales</td>\n",
       "      <td>5</td>\n",
       "      <td>4</td>\n",
       "      <td>1 kg pkg.</td>\n",
       "      <td>21.00</td>\n",
       "      <td>22</td>\n",
       "      <td>30</td>\n",
       "      <td>30</td>\n",
       "      <td>0</td>\n",
       "    </tr>\n",
       "    <tr>\n",
       "      <th>20</th>\n",
       "      <td>21</td>\n",
       "      <td>Sir Rodney's Scones</td>\n",
       "      <td>8</td>\n",
       "      <td>3</td>\n",
       "      <td>24 pkgs. x 4 pieces</td>\n",
       "      <td>10.00</td>\n",
       "      <td>3</td>\n",
       "      <td>40</td>\n",
       "      <td>5</td>\n",
       "      <td>0</td>\n",
       "    </tr>\n",
       "    <tr>\n",
       "      <th>30</th>\n",
       "      <td>31</td>\n",
       "      <td>Gorgonzola Telino</td>\n",
       "      <td>14</td>\n",
       "      <td>4</td>\n",
       "      <td>12 - 100 g pkgs</td>\n",
       "      <td>12.50</td>\n",
       "      <td>0</td>\n",
       "      <td>70</td>\n",
       "      <td>20</td>\n",
       "      <td>0</td>\n",
       "    </tr>\n",
       "    <tr>\n",
       "      <th>31</th>\n",
       "      <td>32</td>\n",
       "      <td>Mascarpone Fabioli</td>\n",
       "      <td>14</td>\n",
       "      <td>4</td>\n",
       "      <td>24 - 200 g pkgs.</td>\n",
       "      <td>32.00</td>\n",
       "      <td>9</td>\n",
       "      <td>40</td>\n",
       "      <td>25</td>\n",
       "      <td>0</td>\n",
       "    </tr>\n",
       "    <tr>\n",
       "      <th>36</th>\n",
       "      <td>37</td>\n",
       "      <td>Gravad lax</td>\n",
       "      <td>17</td>\n",
       "      <td>8</td>\n",
       "      <td>12 - 500 g pkgs.</td>\n",
       "      <td>26.00</td>\n",
       "      <td>11</td>\n",
       "      <td>50</td>\n",
       "      <td>25</td>\n",
       "      <td>0</td>\n",
       "    </tr>\n",
       "    <tr>\n",
       "      <th>44</th>\n",
       "      <td>45</td>\n",
       "      <td>Rogede sild</td>\n",
       "      <td>21</td>\n",
       "      <td>8</td>\n",
       "      <td>1k pkg.</td>\n",
       "      <td>9.50</td>\n",
       "      <td>5</td>\n",
       "      <td>70</td>\n",
       "      <td>15</td>\n",
       "      <td>0</td>\n",
       "    </tr>\n",
       "    <tr>\n",
       "      <th>47</th>\n",
       "      <td>48</td>\n",
       "      <td>Chocolade</td>\n",
       "      <td>22</td>\n",
       "      <td>3</td>\n",
       "      <td>10 pkgs.</td>\n",
       "      <td>12.75</td>\n",
       "      <td>15</td>\n",
       "      <td>70</td>\n",
       "      <td>25</td>\n",
       "      <td>0</td>\n",
       "    </tr>\n",
       "    <tr>\n",
       "      <th>48</th>\n",
       "      <td>49</td>\n",
       "      <td>Maxilaku</td>\n",
       "      <td>23</td>\n",
       "      <td>3</td>\n",
       "      <td>24 - 50 g pkgs.</td>\n",
       "      <td>20.00</td>\n",
       "      <td>10</td>\n",
       "      <td>60</td>\n",
       "      <td>15</td>\n",
       "      <td>0</td>\n",
       "    </tr>\n",
       "    <tr>\n",
       "      <th>63</th>\n",
       "      <td>64</td>\n",
       "      <td>Wimmers gute Semmelknödel</td>\n",
       "      <td>12</td>\n",
       "      <td>5</td>\n",
       "      <td>20 bags x 4 pieces</td>\n",
       "      <td>33.25</td>\n",
       "      <td>22</td>\n",
       "      <td>80</td>\n",
       "      <td>30</td>\n",
       "      <td>0</td>\n",
       "    </tr>\n",
       "    <tr>\n",
       "      <th>65</th>\n",
       "      <td>66</td>\n",
       "      <td>Louisiana Hot Spiced Okra</td>\n",
       "      <td>2</td>\n",
       "      <td>2</td>\n",
       "      <td>24 - 8 oz jars</td>\n",
       "      <td>17.00</td>\n",
       "      <td>4</td>\n",
       "      <td>100</td>\n",
       "      <td>20</td>\n",
       "      <td>0</td>\n",
       "    </tr>\n",
       "    <tr>\n",
       "      <th>67</th>\n",
       "      <td>68</td>\n",
       "      <td>Scottish Longbreads</td>\n",
       "      <td>8</td>\n",
       "      <td>3</td>\n",
       "      <td>10 boxes x 8 pieces</td>\n",
       "      <td>12.50</td>\n",
       "      <td>6</td>\n",
       "      <td>10</td>\n",
       "      <td>15</td>\n",
       "      <td>0</td>\n",
       "    </tr>\n",
       "    <tr>\n",
       "      <th>73</th>\n",
       "      <td>74</td>\n",
       "      <td>Longlife Tofu</td>\n",
       "      <td>4</td>\n",
       "      <td>7</td>\n",
       "      <td>5 kg pkg.</td>\n",
       "      <td>10.00</td>\n",
       "      <td>4</td>\n",
       "      <td>20</td>\n",
       "      <td>5</td>\n",
       "      <td>0</td>\n",
       "    </tr>\n",
       "  </tbody>\n",
       "</table>\n",
       "</div>"
      ],
      "text/plain": [
       "    Id                ProductName  SupplierId  CategoryId  \\\n",
       "1    2                      Chang           1           1   \n",
       "2    3              Aniseed Syrup           1           2   \n",
       "10  11             Queso Cabrales           5           4   \n",
       "20  21        Sir Rodney's Scones           8           3   \n",
       "30  31          Gorgonzola Telino          14           4   \n",
       "31  32         Mascarpone Fabioli          14           4   \n",
       "36  37                 Gravad lax          17           8   \n",
       "44  45                Rogede sild          21           8   \n",
       "47  48                  Chocolade          22           3   \n",
       "48  49                   Maxilaku          23           3   \n",
       "63  64  Wimmers gute Semmelknödel          12           5   \n",
       "65  66  Louisiana Hot Spiced Okra           2           2   \n",
       "67  68        Scottish Longbreads           8           3   \n",
       "73  74              Longlife Tofu           4           7   \n",
       "\n",
       "        QuantityPerUnit  UnitPrice  UnitsInStock  UnitsOnOrder  ReorderLevel  \\\n",
       "1    24 - 12 oz bottles      19.00            17            40            25   \n",
       "2   12 - 550 ml bottles      10.00            13            70            25   \n",
       "10            1 kg pkg.      21.00            22            30            30   \n",
       "20  24 pkgs. x 4 pieces      10.00             3            40             5   \n",
       "30      12 - 100 g pkgs      12.50             0            70            20   \n",
       "31     24 - 200 g pkgs.      32.00             9            40            25   \n",
       "36     12 - 500 g pkgs.      26.00            11            50            25   \n",
       "44              1k pkg.       9.50             5            70            15   \n",
       "47             10 pkgs.      12.75            15            70            25   \n",
       "48      24 - 50 g pkgs.      20.00            10            60            15   \n",
       "63   20 bags x 4 pieces      33.25            22            80            30   \n",
       "65       24 - 8 oz jars      17.00             4           100            20   \n",
       "67  10 boxes x 8 pieces      12.50             6            10            15   \n",
       "73            5 kg pkg.      10.00             4            20             5   \n",
       "\n",
       "    Discontinued  \n",
       "1              0  \n",
       "2              0  \n",
       "10             0  \n",
       "20             0  \n",
       "30             0  \n",
       "31             0  \n",
       "36             0  \n",
       "44             0  \n",
       "47             0  \n",
       "48             0  \n",
       "63             0  \n",
       "65             0  \n",
       "67             0  \n",
       "73             0  "
      ]
     },
     "execution_count": 43,
     "metadata": {},
     "output_type": "execute_result"
    }
   ],
   "source": [
    "mo = xdf.loc[xdf['UnitsInStock'] < xdf['UnitsOnOrder']]\n",
    "mo.head(14)"
   ]
  },
  {
   "cell_type": "markdown",
   "metadata": {},
   "source": [
    "# Statistical Analysis:"
   ]
  },
  {
   "cell_type": "markdown",
   "metadata": {},
   "source": [
    "Initial results do not look promising as almost 20% of Products do not have enough stock to fulfill the orders needed."
   ]
  },
  {
   "cell_type": "code",
   "execution_count": 44,
   "metadata": {},
   "outputs": [
    {
     "data": {
      "text/plain": [
       "0.18181818181818182"
      ]
     },
     "execution_count": 44,
     "metadata": {},
     "output_type": "execute_result"
    }
   ],
   "source": [
    "14/77"
   ]
  },
  {
   "cell_type": "markdown",
   "metadata": {},
   "source": [
    "Here I am creating a dictionary that breaks down which category as well as the quantity and dollar amount that is unable to be fulfilled/collected on. The reason for this is so that if needed, new suppliers can be found in this category to ensure a positive customer experience."
   ]
  },
  {
   "cell_type": "code",
   "execution_count": 52,
   "metadata": {},
   "outputs": [],
   "source": [
    "bo = {}\n",
    "\n",
    "for i in mo.CategoryId.unique():\n",
    "    df = mo.groupby(['CategoryId'])\n",
    "    w = df.get_group(i)\n",
    "    idx = [x - 1 for x in w.Id.unique()]\n",
    "    \n",
    "    for j in idx:\n",
    "        a = w.UnitsInStock[j]\n",
    "        b = w.UnitsOnOrder[j]\n",
    "        cc = w.UnitPrice[j]\n",
    "        d = b - a\n",
    "        e = d * cc\n",
    "    \n",
    "    bo[i] = [d,e]"
   ]
  },
  {
   "cell_type": "code",
   "execution_count": 53,
   "metadata": {},
   "outputs": [
    {
     "name": "stdout",
     "output_type": "stream",
     "text": [
      "The total amount of product that is unable to be paid on is 5817.0 from 293 units on backorder.\n"
     ]
    }
   ],
   "source": [
    "quant = []\n",
    "loss = []\n",
    "\n",
    "for i in mo.CategoryId.unique():\n",
    "    quant.append(bo[i][0])\n",
    "    loss.append(bo[i][1])\n",
    "    \n",
    "quant = sum(quant)\n",
    "loss = sum(loss)\n",
    "    \n",
    "print(\"The total amount of product that is unable to be paid on is {} from {} units on backorder.\".format(loss, quant))"
   ]
  },
  {
   "cell_type": "markdown",
   "metadata": {},
   "source": [
    "This is the percentage of units that are on backorder which seems to go against the H0."
   ]
  },
  {
   "cell_type": "code",
   "execution_count": 54,
   "metadata": {},
   "outputs": [
    {
     "data": {
      "text/plain": [
       "0.37564102564102564"
      ]
     },
     "execution_count": 54,
     "metadata": {},
     "output_type": "execute_result"
    }
   ],
   "source": [
    "quant/tot_ord"
   ]
  },
  {
   "cell_type": "markdown",
   "metadata": {},
   "source": [
    "This is the dictionary that I created and as you can see, 3 categories make up the majority of the units that are on backorder. Although I would like to point out that each category has a different unit price so the top three dollar amounts are different from the top 3 units by quantity."
   ]
  },
  {
   "cell_type": "code",
   "execution_count": 56,
   "metadata": {},
   "outputs": [
    {
     "data": {
      "text/plain": [
       "{1: [23, 437.0],\n",
       " 2: [96, 1632.0],\n",
       " 4: [31, 992.0],\n",
       " 3: [4, 50.0],\n",
       " 8: [65, 617.5],\n",
       " 5: [58, 1928.5],\n",
       " 7: [16, 160.0]}"
      ]
     },
     "execution_count": 56,
     "metadata": {},
     "output_type": "execute_result"
    }
   ],
   "source": [
    "bo"
   ]
  },
  {
   "cell_type": "markdown",
   "metadata": {},
   "source": [
    "Here I am getting historicals on purchases so that I can perform a POF although it is going to have to be a simplified version as many of the parameters are not included in this dataset."
   ]
  },
  {
   "cell_type": "code",
   "execution_count": 59,
   "metadata": {},
   "outputs": [
    {
     "data": {
      "text/html": [
       "<div>\n",
       "<style scoped>\n",
       "    .dataframe tbody tr th:only-of-type {\n",
       "        vertical-align: middle;\n",
       "    }\n",
       "\n",
       "    .dataframe tbody tr th {\n",
       "        vertical-align: top;\n",
       "    }\n",
       "\n",
       "    .dataframe thead th {\n",
       "        text-align: right;\n",
       "    }\n",
       "</style>\n",
       "<table border=\"1\" class=\"dataframe\">\n",
       "  <thead>\n",
       "    <tr style=\"text-align: right;\">\n",
       "      <th></th>\n",
       "      <th>Id</th>\n",
       "      <th>CustomerId</th>\n",
       "      <th>EmployeeId</th>\n",
       "      <th>OrderDate</th>\n",
       "      <th>RequiredDate</th>\n",
       "      <th>ShippedDate</th>\n",
       "      <th>ShipVia</th>\n",
       "      <th>Freight</th>\n",
       "      <th>ShipName</th>\n",
       "      <th>ShipAddress</th>\n",
       "      <th>ShipCity</th>\n",
       "      <th>ShipRegion</th>\n",
       "      <th>ShipPostalCode</th>\n",
       "      <th>ShipCountry</th>\n",
       "      <th>Id</th>\n",
       "      <th>OrderId</th>\n",
       "      <th>ProductId</th>\n",
       "      <th>UnitPrice</th>\n",
       "      <th>Quantity</th>\n",
       "      <th>Discount</th>\n",
       "    </tr>\n",
       "  </thead>\n",
       "  <tbody>\n",
       "    <tr>\n",
       "      <th>0</th>\n",
       "      <td>10248</td>\n",
       "      <td>VINET</td>\n",
       "      <td>5</td>\n",
       "      <td>2012-07-04</td>\n",
       "      <td>2012-08-01</td>\n",
       "      <td>2012-07-16</td>\n",
       "      <td>3</td>\n",
       "      <td>32.38</td>\n",
       "      <td>Vins et alcools Chevalier</td>\n",
       "      <td>59 rue de l'Abbaye</td>\n",
       "      <td>Reims</td>\n",
       "      <td>Western Europe</td>\n",
       "      <td>51100</td>\n",
       "      <td>France</td>\n",
       "      <td>10248/11</td>\n",
       "      <td>10248</td>\n",
       "      <td>11</td>\n",
       "      <td>14.0</td>\n",
       "      <td>12</td>\n",
       "      <td>0.0</td>\n",
       "    </tr>\n",
       "    <tr>\n",
       "      <th>1</th>\n",
       "      <td>10248</td>\n",
       "      <td>VINET</td>\n",
       "      <td>5</td>\n",
       "      <td>2012-07-04</td>\n",
       "      <td>2012-08-01</td>\n",
       "      <td>2012-07-16</td>\n",
       "      <td>3</td>\n",
       "      <td>32.38</td>\n",
       "      <td>Vins et alcools Chevalier</td>\n",
       "      <td>59 rue de l'Abbaye</td>\n",
       "      <td>Reims</td>\n",
       "      <td>Western Europe</td>\n",
       "      <td>51100</td>\n",
       "      <td>France</td>\n",
       "      <td>10248/42</td>\n",
       "      <td>10248</td>\n",
       "      <td>42</td>\n",
       "      <td>9.8</td>\n",
       "      <td>10</td>\n",
       "      <td>0.0</td>\n",
       "    </tr>\n",
       "    <tr>\n",
       "      <th>2</th>\n",
       "      <td>10248</td>\n",
       "      <td>VINET</td>\n",
       "      <td>5</td>\n",
       "      <td>2012-07-04</td>\n",
       "      <td>2012-08-01</td>\n",
       "      <td>2012-07-16</td>\n",
       "      <td>3</td>\n",
       "      <td>32.38</td>\n",
       "      <td>Vins et alcools Chevalier</td>\n",
       "      <td>59 rue de l'Abbaye</td>\n",
       "      <td>Reims</td>\n",
       "      <td>Western Europe</td>\n",
       "      <td>51100</td>\n",
       "      <td>France</td>\n",
       "      <td>10248/72</td>\n",
       "      <td>10248</td>\n",
       "      <td>72</td>\n",
       "      <td>34.8</td>\n",
       "      <td>5</td>\n",
       "      <td>0.0</td>\n",
       "    </tr>\n",
       "    <tr>\n",
       "      <th>3</th>\n",
       "      <td>10249</td>\n",
       "      <td>TOMSP</td>\n",
       "      <td>6</td>\n",
       "      <td>2012-07-05</td>\n",
       "      <td>2012-08-16</td>\n",
       "      <td>2012-07-10</td>\n",
       "      <td>1</td>\n",
       "      <td>11.61</td>\n",
       "      <td>Toms Spezialitäten</td>\n",
       "      <td>Luisenstr. 48</td>\n",
       "      <td>Münster</td>\n",
       "      <td>Western Europe</td>\n",
       "      <td>44087</td>\n",
       "      <td>Germany</td>\n",
       "      <td>10249/14</td>\n",
       "      <td>10249</td>\n",
       "      <td>14</td>\n",
       "      <td>18.6</td>\n",
       "      <td>9</td>\n",
       "      <td>0.0</td>\n",
       "    </tr>\n",
       "    <tr>\n",
       "      <th>4</th>\n",
       "      <td>10249</td>\n",
       "      <td>TOMSP</td>\n",
       "      <td>6</td>\n",
       "      <td>2012-07-05</td>\n",
       "      <td>2012-08-16</td>\n",
       "      <td>2012-07-10</td>\n",
       "      <td>1</td>\n",
       "      <td>11.61</td>\n",
       "      <td>Toms Spezialitäten</td>\n",
       "      <td>Luisenstr. 48</td>\n",
       "      <td>Münster</td>\n",
       "      <td>Western Europe</td>\n",
       "      <td>44087</td>\n",
       "      <td>Germany</td>\n",
       "      <td>10249/51</td>\n",
       "      <td>10249</td>\n",
       "      <td>51</td>\n",
       "      <td>42.4</td>\n",
       "      <td>40</td>\n",
       "      <td>0.0</td>\n",
       "    </tr>\n",
       "  </tbody>\n",
       "</table>\n",
       "</div>"
      ],
      "text/plain": [
       "      Id CustomerId  EmployeeId   OrderDate RequiredDate ShippedDate  ShipVia  \\\n",
       "0  10248      VINET           5  2012-07-04   2012-08-01  2012-07-16        3   \n",
       "1  10248      VINET           5  2012-07-04   2012-08-01  2012-07-16        3   \n",
       "2  10248      VINET           5  2012-07-04   2012-08-01  2012-07-16        3   \n",
       "3  10249      TOMSP           6  2012-07-05   2012-08-16  2012-07-10        1   \n",
       "4  10249      TOMSP           6  2012-07-05   2012-08-16  2012-07-10        1   \n",
       "\n",
       "   Freight                   ShipName         ShipAddress ShipCity  \\\n",
       "0    32.38  Vins et alcools Chevalier  59 rue de l'Abbaye    Reims   \n",
       "1    32.38  Vins et alcools Chevalier  59 rue de l'Abbaye    Reims   \n",
       "2    32.38  Vins et alcools Chevalier  59 rue de l'Abbaye    Reims   \n",
       "3    11.61         Toms Spezialitäten       Luisenstr. 48  Münster   \n",
       "4    11.61         Toms Spezialitäten       Luisenstr. 48  Münster   \n",
       "\n",
       "       ShipRegion ShipPostalCode ShipCountry        Id  OrderId  ProductId  \\\n",
       "0  Western Europe          51100      France  10248/11    10248         11   \n",
       "1  Western Europe          51100      France  10248/42    10248         42   \n",
       "2  Western Europe          51100      France  10248/72    10248         72   \n",
       "3  Western Europe          44087     Germany  10249/14    10249         14   \n",
       "4  Western Europe          44087     Germany  10249/51    10249         51   \n",
       "\n",
       "   UnitPrice  Quantity  Discount  \n",
       "0       14.0        12       0.0  \n",
       "1        9.8        10       0.0  \n",
       "2       34.8         5       0.0  \n",
       "3       18.6         9       0.0  \n",
       "4       42.4        40       0.0  "
      ]
     },
     "execution_count": 59,
     "metadata": {},
     "output_type": "execute_result"
    }
   ],
   "source": [
    "c.execute('''select * from \"order\" join OrderDetail on \"order\".Id = OrderDetail.OrderID;''')\n",
    "\n",
    "zdf = pd.DataFrame(c.fetchall())\n",
    "zdf.columns = [x[0] for x in c.description]\n",
    "zdf.head()"
   ]
  },
  {
   "cell_type": "markdown",
   "metadata": {},
   "source": [
    "This dataframe is all orders that were not able to be shipped out in time, for reasons that are not specified in this dataframe. It is safe to assume if an order is not shipped out before the required date, the product was not in stock and was shipped as soon as it was available but ultimately did not arrive on time."
   ]
  },
  {
   "cell_type": "code",
   "execution_count": 60,
   "metadata": {},
   "outputs": [
    {
     "data": {
      "text/html": [
       "<div>\n",
       "<style scoped>\n",
       "    .dataframe tbody tr th:only-of-type {\n",
       "        vertical-align: middle;\n",
       "    }\n",
       "\n",
       "    .dataframe tbody tr th {\n",
       "        vertical-align: top;\n",
       "    }\n",
       "\n",
       "    .dataframe thead th {\n",
       "        text-align: right;\n",
       "    }\n",
       "</style>\n",
       "<table border=\"1\" class=\"dataframe\">\n",
       "  <thead>\n",
       "    <tr style=\"text-align: right;\">\n",
       "      <th></th>\n",
       "      <th>Id</th>\n",
       "      <th>CustomerId</th>\n",
       "      <th>EmployeeId</th>\n",
       "      <th>OrderDate</th>\n",
       "      <th>RequiredDate</th>\n",
       "      <th>ShippedDate</th>\n",
       "      <th>ShipVia</th>\n",
       "      <th>Freight</th>\n",
       "      <th>ShipName</th>\n",
       "      <th>ShipAddress</th>\n",
       "      <th>ShipCity</th>\n",
       "      <th>ShipRegion</th>\n",
       "      <th>ShipPostalCode</th>\n",
       "      <th>ShipCountry</th>\n",
       "      <th>Id</th>\n",
       "      <th>OrderId</th>\n",
       "      <th>ProductId</th>\n",
       "      <th>UnitPrice</th>\n",
       "      <th>Quantity</th>\n",
       "      <th>Discount</th>\n",
       "    </tr>\n",
       "  </thead>\n",
       "  <tbody>\n",
       "    <tr>\n",
       "      <th>47</th>\n",
       "      <td>10264</td>\n",
       "      <td>FOLKO</td>\n",
       "      <td>6</td>\n",
       "      <td>2012-07-24</td>\n",
       "      <td>2012-08-21</td>\n",
       "      <td>2012-08-23</td>\n",
       "      <td>3</td>\n",
       "      <td>3.67</td>\n",
       "      <td>Folk och fä HB</td>\n",
       "      <td>Åkergatan 24</td>\n",
       "      <td>Bräcke</td>\n",
       "      <td>Northern Europe</td>\n",
       "      <td>S-844 67</td>\n",
       "      <td>Sweden</td>\n",
       "      <td>10264/2</td>\n",
       "      <td>10264</td>\n",
       "      <td>2</td>\n",
       "      <td>15.2</td>\n",
       "      <td>35</td>\n",
       "      <td>0.00</td>\n",
       "    </tr>\n",
       "    <tr>\n",
       "      <th>48</th>\n",
       "      <td>10264</td>\n",
       "      <td>FOLKO</td>\n",
       "      <td>6</td>\n",
       "      <td>2012-07-24</td>\n",
       "      <td>2012-08-21</td>\n",
       "      <td>2012-08-23</td>\n",
       "      <td>3</td>\n",
       "      <td>3.67</td>\n",
       "      <td>Folk och fä HB</td>\n",
       "      <td>Åkergatan 24</td>\n",
       "      <td>Bräcke</td>\n",
       "      <td>Northern Europe</td>\n",
       "      <td>S-844 67</td>\n",
       "      <td>Sweden</td>\n",
       "      <td>10264/41</td>\n",
       "      <td>10264</td>\n",
       "      <td>41</td>\n",
       "      <td>7.7</td>\n",
       "      <td>25</td>\n",
       "      <td>0.15</td>\n",
       "    </tr>\n",
       "    <tr>\n",
       "      <th>61</th>\n",
       "      <td>10271</td>\n",
       "      <td>SPLIR</td>\n",
       "      <td>6</td>\n",
       "      <td>2012-08-01</td>\n",
       "      <td>2012-08-29</td>\n",
       "      <td>2012-08-30</td>\n",
       "      <td>2</td>\n",
       "      <td>4.54</td>\n",
       "      <td>Split Rail Beer &amp; Ale</td>\n",
       "      <td>P.O. Box 555</td>\n",
       "      <td>Lander</td>\n",
       "      <td>North America</td>\n",
       "      <td>82520</td>\n",
       "      <td>USA</td>\n",
       "      <td>10271/33</td>\n",
       "      <td>10271</td>\n",
       "      <td>33</td>\n",
       "      <td>2.0</td>\n",
       "      <td>24</td>\n",
       "      <td>0.00</td>\n",
       "    </tr>\n",
       "    <tr>\n",
       "      <th>83</th>\n",
       "      <td>10280</td>\n",
       "      <td>BERGS</td>\n",
       "      <td>2</td>\n",
       "      <td>2012-08-14</td>\n",
       "      <td>2012-09-11</td>\n",
       "      <td>2012-09-12</td>\n",
       "      <td>1</td>\n",
       "      <td>8.98</td>\n",
       "      <td>Berglunds snabbköp</td>\n",
       "      <td>Berguvsvägen  8</td>\n",
       "      <td>Luleå</td>\n",
       "      <td>Northern Europe</td>\n",
       "      <td>S-958 22</td>\n",
       "      <td>Sweden</td>\n",
       "      <td>10280/24</td>\n",
       "      <td>10280</td>\n",
       "      <td>24</td>\n",
       "      <td>3.6</td>\n",
       "      <td>12</td>\n",
       "      <td>0.00</td>\n",
       "    </tr>\n",
       "    <tr>\n",
       "      <th>84</th>\n",
       "      <td>10280</td>\n",
       "      <td>BERGS</td>\n",
       "      <td>2</td>\n",
       "      <td>2012-08-14</td>\n",
       "      <td>2012-09-11</td>\n",
       "      <td>2012-09-12</td>\n",
       "      <td>1</td>\n",
       "      <td>8.98</td>\n",
       "      <td>Berglunds snabbköp</td>\n",
       "      <td>Berguvsvägen  8</td>\n",
       "      <td>Luleå</td>\n",
       "      <td>Northern Europe</td>\n",
       "      <td>S-958 22</td>\n",
       "      <td>Sweden</td>\n",
       "      <td>10280/55</td>\n",
       "      <td>10280</td>\n",
       "      <td>55</td>\n",
       "      <td>19.2</td>\n",
       "      <td>20</td>\n",
       "      <td>0.00</td>\n",
       "    </tr>\n",
       "  </tbody>\n",
       "</table>\n",
       "</div>"
      ],
      "text/plain": [
       "       Id CustomerId  EmployeeId   OrderDate RequiredDate ShippedDate  \\\n",
       "47  10264      FOLKO           6  2012-07-24   2012-08-21  2012-08-23   \n",
       "48  10264      FOLKO           6  2012-07-24   2012-08-21  2012-08-23   \n",
       "61  10271      SPLIR           6  2012-08-01   2012-08-29  2012-08-30   \n",
       "83  10280      BERGS           2  2012-08-14   2012-09-11  2012-09-12   \n",
       "84  10280      BERGS           2  2012-08-14   2012-09-11  2012-09-12   \n",
       "\n",
       "    ShipVia  Freight               ShipName      ShipAddress ShipCity  \\\n",
       "47        3     3.67         Folk och fä HB     Åkergatan 24   Bräcke   \n",
       "48        3     3.67         Folk och fä HB     Åkergatan 24   Bräcke   \n",
       "61        2     4.54  Split Rail Beer & Ale     P.O. Box 555   Lander   \n",
       "83        1     8.98     Berglunds snabbköp  Berguvsvägen  8    Luleå   \n",
       "84        1     8.98     Berglunds snabbköp  Berguvsvägen  8    Luleå   \n",
       "\n",
       "         ShipRegion ShipPostalCode ShipCountry        Id  OrderId  ProductId  \\\n",
       "47  Northern Europe       S-844 67      Sweden   10264/2    10264          2   \n",
       "48  Northern Europe       S-844 67      Sweden  10264/41    10264         41   \n",
       "61    North America          82520         USA  10271/33    10271         33   \n",
       "83  Northern Europe       S-958 22      Sweden  10280/24    10280         24   \n",
       "84  Northern Europe       S-958 22      Sweden  10280/55    10280         55   \n",
       "\n",
       "    UnitPrice  Quantity  Discount  \n",
       "47       15.2        35      0.00  \n",
       "48        7.7        25      0.15  \n",
       "61        2.0        24      0.00  \n",
       "83        3.6        12      0.00  \n",
       "84       19.2        20      0.00  "
      ]
     },
     "execution_count": 60,
     "metadata": {},
     "output_type": "execute_result"
    }
   ],
   "source": [
    "missed = zdf.loc[zdf['RequiredDate'] <= zdf['ShippedDate']]\n",
    "missed.head()"
   ]
  },
  {
   "cell_type": "markdown",
   "metadata": {},
   "source": [
    "# Interpret Results:"
   ]
  },
  {
   "cell_type": "code",
   "execution_count": 61,
   "metadata": {},
   "outputs": [],
   "source": [
    "p = len(missed.OrderId.unique())"
   ]
  },
  {
   "cell_type": "code",
   "execution_count": 67,
   "metadata": {},
   "outputs": [],
   "source": [
    "u = len(zdf.OrderId.unique())"
   ]
  },
  {
   "cell_type": "markdown",
   "metadata": {},
   "source": [
    "Here is the simplified version as we do not have the proper info such as whether the package arrived damaged and other stats needed to calculate the POF. Based on the data, we see that the orders are recieved before their required date 95% of the time. Well above industry standard. "
   ]
  },
  {
   "cell_type": "code",
   "execution_count": 70,
   "metadata": {},
   "outputs": [
    {
     "data": {
      "text/plain": [
       "0.9518072289156626"
      ]
     },
     "execution_count": 70,
     "metadata": {},
     "output_type": "execute_result"
    }
   ],
   "source": [
    "abs(((p / u) * 1) - 1)"
   ]
  },
  {
   "cell_type": "markdown",
   "metadata": {},
   "source": [
    "Given the information above, we can reject the null hypothesis. While the initial data did not look promising, it turns out that even though there are a lot of products on backorder, the products tend to get to thier destination before they are needed 95% of the time. "
   ]
  }
 ],
 "metadata": {
  "kernelspec": {
   "display_name": "Python [conda env:learn-env] *",
   "language": "python",
   "name": "conda-env-learn-env-py"
  },
  "language_info": {
   "codemirror_mode": {
    "name": "ipython",
    "version": 3
   },
   "file_extension": ".py",
   "mimetype": "text/x-python",
   "name": "python",
   "nbconvert_exporter": "python",
   "pygments_lexer": "ipython3",
   "version": "3.6.6"
  }
 },
 "nbformat": 4,
 "nbformat_minor": 2
}
